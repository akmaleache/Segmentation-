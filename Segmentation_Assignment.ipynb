{
  "nbformat": 4,
  "nbformat_minor": 0,
  "metadata": {
    "accelerator": "GPU",
    "colab": {
      "name": "Segmentation_Assignment.ipynb",
      "provenance": [],
      "collapsed_sections": [],
      "toc_visible": true,
      "include_colab_link": true
    },
    "kernelspec": {
      "display_name": "Python 3",
      "language": "python",
      "name": "python3"
    },
    "language_info": {
      "codemirror_mode": {
        "name": "ipython",
        "version": 3
      },
      "file_extension": ".py",
      "mimetype": "text/x-python",
      "name": "python",
      "nbconvert_exporter": "python",
      "pygments_lexer": "ipython3",
      "version": "3.7.4"
    }
  },
  "cells": [
    {
      "cell_type": "markdown",
      "metadata": {
        "id": "view-in-github",
        "colab_type": "text"
      },
      "source": [
        "<a href=\"https://colab.research.google.com/github/akmaleache/Segmentation-/blob/main/Segmentation_Assignment.ipynb\" target=\"_parent\"><img src=\"https://colab.research.google.com/assets/colab-badge.svg\" alt=\"Open In Colab\"/></a>"
      ]
    },
    {
      "cell_type": "markdown",
      "metadata": {
        "id": "92cYIeQF0bAQ"
      },
      "source": [
        "# Segmentation of Indian Traffic"
      ]
    },
    {
      "cell_type": "code",
      "metadata": {
        "colab": {
          "base_uri": "https://localhost:8080/"
        },
        "id": "goS4NYXeU6uO",
        "outputId": "9c748a1a-5d83-46ee-ae24-328adb8cf13d"
      },
      "source": [
        "from google.colab import drive\n",
        "drive.mount('/content/drive')"
      ],
      "execution_count": 1,
      "outputs": [
        {
          "output_type": "stream",
          "text": [
            "Mounted at /content/drive\n"
          ],
          "name": "stdout"
        }
      ]
    },
    {
      "cell_type": "code",
      "metadata": {
        "id": "5gG_10XW0bAR"
      },
      "source": [
        "import math\n",
        "from PIL import Image, ImageDraw\n",
        "from PIL import ImagePath\n",
        "import pandas as pd\n",
        "import os\n",
        "from os import path\n",
        "from tqdm import tqdm\n",
        "import json\n",
        "import cv2\n",
        "import numpy as np\n",
        "import matplotlib.pyplot as plt\n",
        "import urllib.request\n",
        "import zipfile "
      ],
      "execution_count": 2,
      "outputs": []
    },
    {
      "cell_type": "code",
      "metadata": {
        "id": "2ffIWhobVnNV"
      },
      "source": [
        "zf = zipfile.ZipFile(\"/content/drive/MyDrive/Colab Notebooks/segmentation/data.zip\",\"r\")\n",
        "data = zf.extractall()"
      ],
      "execution_count": 3,
      "outputs": []
    },
    {
      "cell_type": "markdown",
      "metadata": {
        "id": "bl2voXpM0bAW"
      },
      "source": [
        "<pre>\n",
        "1. You can download the data from this link, and extract it\n",
        "\n",
        "2. All your data will be in the folder \"data\" \n",
        "\n",
        "3. Inside the data you will be having two folders\n",
        "\n",
        "|--- data\n",
        "|-----| ---- images\n",
        "|-----| ------|----- Scene 1\n",
        "|-----| ------|--------| ----- Frame 1 (image 1)\n",
        "|-----| ------|--------| ----- Frame 2 (image 2)\n",
        "|-----| ------|--------| ----- ...\n",
        "|-----| ------|----- Scene 2\n",
        "|-----| ------|--------| ----- Frame 1 (image 1)\n",
        "|-----| ------|--------| ----- Frame 2 (image 2)\n",
        "|-----| ------|--------| ----- ...\n",
        "|-----| ------|----- .....\n",
        "|-----| ---- masks\n",
        "|-----| ------|----- Scene 1\n",
        "|-----| ------|--------| ----- json 1 (labeled objects in image 1)\n",
        "|-----| ------|--------| ----- json 2 (labeled objects in image 1)\n",
        "|-----| ------|--------| ----- ...\n",
        "|-----| ------|----- Scene 2\n",
        "|-----| ------|--------| ----- json 1 (labeled objects in image 1)\n",
        "|-----| ------|--------| ----- json 2 (labeled objects in image 1)\n",
        "|-----| ------|--------| ----- ...\n",
        "|-----| ------|----- .....\n",
        "</pre>"
      ]
    },
    {
      "cell_type": "markdown",
      "metadata": {
        "id": "hWCQ4I4d0bAX"
      },
      "source": [
        "# Task 1: Preprocessing"
      ]
    },
    {
      "cell_type": "markdown",
      "metadata": {
        "id": "r4owX5YO0bAY"
      },
      "source": [
        "## 1. Get all the file name and corresponding json files"
      ]
    },
    {
      "cell_type": "code",
      "metadata": {
        "id": "p-Q8onrE0bAZ"
      },
      "source": [
        "def return_file_names_df(root_dir):\n",
        "    # write the code that will create a dataframe with two columns ['images', 'json']\n",
        "    # the column 'image' will have path to images\n",
        "    # the column 'json' will have path to json files\n",
        "    unique_ids = os.listdir(root_dir)\n",
        "    image_path = '/content/data/images/'\n",
        "    json_path = '/content/data/mask/'\n",
        "    images = []\n",
        "    json = []\n",
        "    for i in unique_ids:        \n",
        "        images.extend([image_path+str(i)+'/'+img for img in sorted(set(os.listdir(image_path+str(i))))])# using sorted set to maintain elements order while converting set to list.(Finxter)\n",
        "        json.extend([json_path+str(i)+'/'+json for json in sorted(set(os.listdir(json_path+str(i))))])\n",
        "\n",
        "    data_df = pd.DataFrame(list(zip(images,json)),columns=['images','json'])\n",
        "    return data_df"
      ],
      "execution_count": 4,
      "outputs": []
    },
    {
      "cell_type": "code",
      "metadata": {
        "colab": {
          "base_uri": "https://localhost:8080/",
          "height": 204
        },
        "id": "Em4n2bW10bAc",
        "scrolled": true,
        "outputId": "44b489a6-e7fe-4bce-d71c-6f8a18e2e26e"
      },
      "source": [
        "root_dir = '/content/data/images'\n",
        "data_df = return_file_names_df(root_dir)\n",
        "data_df.head()"
      ],
      "execution_count": 5,
      "outputs": [
        {
          "output_type": "execute_result",
          "data": {
            "text/html": [
              "<div>\n",
              "<style scoped>\n",
              "    .dataframe tbody tr th:only-of-type {\n",
              "        vertical-align: middle;\n",
              "    }\n",
              "\n",
              "    .dataframe tbody tr th {\n",
              "        vertical-align: top;\n",
              "    }\n",
              "\n",
              "    .dataframe thead th {\n",
              "        text-align: right;\n",
              "    }\n",
              "</style>\n",
              "<table border=\"1\" class=\"dataframe\">\n",
              "  <thead>\n",
              "    <tr style=\"text-align: right;\">\n",
              "      <th></th>\n",
              "      <th>images</th>\n",
              "      <th>json</th>\n",
              "    </tr>\n",
              "  </thead>\n",
              "  <tbody>\n",
              "    <tr>\n",
              "      <th>0</th>\n",
              "      <td>/content/data/images/295/frame0310_leftImg8bit...</td>\n",
              "      <td>/content/data/mask/295/frame0310_gtFine_polygo...</td>\n",
              "    </tr>\n",
              "    <tr>\n",
              "      <th>1</th>\n",
              "      <td>/content/data/images/295/frame0729_leftImg8bit...</td>\n",
              "      <td>/content/data/mask/295/frame0729_gtFine_polygo...</td>\n",
              "    </tr>\n",
              "    <tr>\n",
              "      <th>2</th>\n",
              "      <td>/content/data/images/295/frame0870_leftImg8bit...</td>\n",
              "      <td>/content/data/mask/295/frame0870_gtFine_polygo...</td>\n",
              "    </tr>\n",
              "    <tr>\n",
              "      <th>3</th>\n",
              "      <td>/content/data/images/295/frame10045_leftImg8bi...</td>\n",
              "      <td>/content/data/mask/295/frame10045_gtFine_polyg...</td>\n",
              "    </tr>\n",
              "    <tr>\n",
              "      <th>4</th>\n",
              "      <td>/content/data/images/295/frame10152_leftImg8bi...</td>\n",
              "      <td>/content/data/mask/295/frame10152_gtFine_polyg...</td>\n",
              "    </tr>\n",
              "  </tbody>\n",
              "</table>\n",
              "</div>"
            ],
            "text/plain": [
              "                                              images                                               json\n",
              "0  /content/data/images/295/frame0310_leftImg8bit...  /content/data/mask/295/frame0310_gtFine_polygo...\n",
              "1  /content/data/images/295/frame0729_leftImg8bit...  /content/data/mask/295/frame0729_gtFine_polygo...\n",
              "2  /content/data/images/295/frame0870_leftImg8bit...  /content/data/mask/295/frame0870_gtFine_polygo...\n",
              "3  /content/data/images/295/frame10045_leftImg8bi...  /content/data/mask/295/frame10045_gtFine_polyg...\n",
              "4  /content/data/images/295/frame10152_leftImg8bi...  /content/data/mask/295/frame10152_gtFine_polyg..."
            ]
          },
          "metadata": {
            "tags": []
          },
          "execution_count": 5
        }
      ]
    },
    {
      "cell_type": "markdown",
      "metadata": {
        "id": "uof88SJW0bAf"
      },
      "source": [
        "> If you observe the dataframe, we can consider each row as single data point, where first feature is image and the second feature is corresponding json file"
      ]
    },
    {
      "cell_type": "code",
      "metadata": {
        "id": "OjMprsim0bAg"
      },
      "source": [
        "def grader_1(data_df):\n",
        "    for i in data_df.values:\n",
        "        if not (path.isfile(i[0]) and path.isfile(i[1]) and i[0][21:i[0].find('_')]==i[1][19:i[1].find('_')]):\n",
        "            return False\n",
        "    return True"
      ],
      "execution_count": 6,
      "outputs": []
    },
    {
      "cell_type": "code",
      "metadata": {
        "colab": {
          "base_uri": "https://localhost:8080/"
        },
        "id": "_fvgVQWF0bAj",
        "outputId": "bef26019-aedf-47c7-e322-be05cafbba21"
      },
      "source": [
        "grader_1(data_df)"
      ],
      "execution_count": 7,
      "outputs": [
        {
          "output_type": "execute_result",
          "data": {
            "text/plain": [
              "True"
            ]
          },
          "metadata": {
            "tags": []
          },
          "execution_count": 7
        }
      ]
    },
    {
      "cell_type": "code",
      "metadata": {
        "colab": {
          "base_uri": "https://localhost:8080/"
        },
        "id": "0ijL77Y10bAl",
        "outputId": "c5016c99-2be3-4c98-d5b7-a5df70b1e117"
      },
      "source": [
        "data_df.shape"
      ],
      "execution_count": 8,
      "outputs": [
        {
          "output_type": "execute_result",
          "data": {
            "text/plain": [
              "(4008, 2)"
            ]
          },
          "metadata": {
            "tags": []
          },
          "execution_count": 8
        }
      ]
    },
    {
      "cell_type": "markdown",
      "metadata": {
        "id": "DB2-yrRV0bAo"
      },
      "source": [
        "## 2. Structure of sample Json file"
      ]
    },
    {
      "cell_type": "markdown",
      "metadata": {
        "id": "DcqXYpEI0bAp"
      },
      "source": [
        "<img src='https://i.imgur.com/EfR5KmI.png' width=\"200\" height=\"100\">"
      ]
    },
    {
      "cell_type": "markdown",
      "metadata": {
        "id": "97ZcwNbr0bAp"
      },
      "source": [
        "* Each File will have 3 attributes\n",
        "    * imgHeight: which tells the height of the image\n",
        "    * imgWidth: which tells the width of the image\n",
        "    * objects: it is a list of objects, each object will have multiple attributes,\n",
        "        * label: the type of the object\n",
        "        * polygon: a list of two element lists, representing the coordinates of the polygon"
      ]
    },
    {
      "cell_type": "markdown",
      "metadata": {
        "id": "pYrICucM0bAq"
      },
      "source": [
        "#### Compute the unique labels"
      ]
    },
    {
      "cell_type": "markdown",
      "metadata": {
        "id": "t-OYvoA20bAr"
      },
      "source": [
        "Let's see how many unique objects are there in the json file.\n",
        "to see how to get the object from the json file please check <a href='https://www.geeksforgeeks.org/read-json-file-using-python/'>this blog </a>"
      ]
    },
    {
      "cell_type": "code",
      "metadata": {
        "id": "5su9envb0bAr"
      },
      "source": [
        "def return_unique_labels(data_df):\n",
        "    labels = []\n",
        "\n",
        "    # for each file in the column json\n",
        "    #       read and store all the objects present in that file\n",
        "    # compute the unique objects and retrun them\n",
        "    # if open any json file using any editor you will get better sense of it\n",
        "    for i in data_df['json'].values:\n",
        "        f= open(i)\n",
        "        data = json.load(f)\n",
        "        for j in data['objects']: \n",
        "            labels.append(j['label'])       \n",
        "    df_label = pd.DataFrame(labels,columns=['label']) \n",
        "    return dict(df_label['label'].value_counts())"
      ],
      "execution_count": 9,
      "outputs": []
    },
    {
      "cell_type": "code",
      "metadata": {
        "id": "ch8hYKOS0bAu"
      },
      "source": [
        "unique_labels = return_unique_labels(data_df)"
      ],
      "execution_count": 10,
      "outputs": []
    },
    {
      "cell_type": "markdown",
      "metadata": {
        "id": "6mSHuX4Y0bAw"
      },
      "source": [
        "<img src='https://i.imgur.com/L4QH6Tp.png'>"
      ]
    },
    {
      "cell_type": "code",
      "metadata": {
        "id": "Gnbt7MSc0bAw"
      },
      "source": [
        "label_clr = {'road':10, 'parking':20, 'drivable fallback':20,'sidewalk':30,'non-drivable fallback':40,'rail track':40,\\\n",
        "                        'person':50, 'animal':50, 'rider':60, 'motorcycle':70, 'bicycle':70, 'autorickshaw':80,\\\n",
        "                        'car':80, 'truck':90, 'bus':90, 'vehicle fallback':90, 'trailer':90, 'caravan':90,\\\n",
        "                        'curb':100, 'wall':100, 'fence':110,'guard rail':110, 'billboard':120,'traffic sign':120,\\\n",
        "                        'traffic light':120, 'pole':130, 'polegroup':130, 'obs-str-bar-fallback':130,'building':140,\\\n",
        "                        'bridge':140,'tunnel':140, 'vegetation':150, 'sky':160, 'fallback background':160,'unlabeled':0,\\\n",
        "                        'out of roi':0, 'ego vehicle':170, 'ground':180,'rectification border':190,\\\n",
        "                   'train':200}"
      ],
      "execution_count": 11,
      "outputs": []
    },
    {
      "cell_type": "code",
      "metadata": {
        "colab": {
          "base_uri": "https://localhost:8080/"
        },
        "id": "MEGjQstmW6ET",
        "outputId": "c3a38039-f17e-4b66-b22a-4562a5e96e6e"
      },
      "source": [
        "len(label_clr)"
      ],
      "execution_count": 12,
      "outputs": [
        {
          "output_type": "execute_result",
          "data": {
            "text/plain": [
              "40"
            ]
          },
          "metadata": {
            "tags": []
          },
          "execution_count": 12
        }
      ]
    },
    {
      "cell_type": "code",
      "metadata": {
        "colab": {
          "base_uri": "https://localhost:8080/"
        },
        "id": "qPuuN7UB0bAz",
        "scrolled": true,
        "outputId": "5f387052-4d69-4c7a-ae49-6be1fb289786"
      },
      "source": [
        "def grader_2(unique_labels):\n",
        "    if (not (set(label_clr.keys())-set(unique_labels))) and len(unique_labels) == 40:\n",
        "        print(\"True\")\n",
        "    else:\n",
        "        print(\"Flase\")\n",
        "\n",
        "grader_2(unique_labels)"
      ],
      "execution_count": 13,
      "outputs": [
        {
          "output_type": "stream",
          "text": [
            "True\n"
          ],
          "name": "stdout"
        }
      ]
    },
    {
      "cell_type": "markdown",
      "metadata": {
        "id": "3xmUIzX00bA2"
      },
      "source": [
        "<pre>\n",
        "* here we have given a number for each of object types, if you see we are having 21 different set of objects\n",
        "* Note that we have multiplies each object's number with 10, that is just to make different objects look differently in the segmentation map\n",
        "* Before you pass it to the models, you might need to devide the image array /10.\n",
        "</pre>"
      ]
    },
    {
      "cell_type": "markdown",
      "metadata": {
        "id": "RzUK6FMJ0bA2"
      },
      "source": [
        "## 3. Extracting the polygons from the json files"
      ]
    },
    {
      "cell_type": "code",
      "metadata": {
        "id": "oRRcwMw50bA3"
      },
      "source": [
        "def get_poly(file):\n",
        "    # this function will take a file name as argument\n",
        "    \n",
        "    # it will process all the objects in that file and returns\n",
        "    \n",
        "    # label: a list of labels for all the objects label[i] will have the corresponding vertices in vertexlist[i]\n",
        "    # len(label) == number of objects in the image\n",
        "    \n",
        "    # vertexlist: it should be list of list of vertices in tuple formate \n",
        "    # ex: [[(x11,y11), (x12,y12), (x13,y13) .. (x1n,y1n)]\n",
        "    #     [(x21,y21), (x22,y12), (x23,y23) .. (x2n,y2n)]\n",
        "    #      .....\n",
        "    #     [(xm1,ym1), (xm2,ym2), (xm3,ym3) .. (xmn,ymn)]]\n",
        "    # len(vertexlist) == number of objects in the image\n",
        "    \n",
        "    # * note that label[i] and vertextlist[i] are corresponds to the same object, one represents the type of the object\n",
        "    # the other represents the location\n",
        "    \n",
        "    # width of the image\n",
        "    # height of the image\n",
        "    label = []\n",
        "    vertexlist=[]\n",
        "    f= open(file)\n",
        "    data = json.load(f)\n",
        "    width = data['imgWidth']\n",
        "    height = data['imgHeight']\n",
        "    # print(data)\n",
        "    for j in data['objects']: \n",
        "        label.append(j['label']) \n",
        "        vertexlist.append([tuple(i) for i in j['polygon']])\n",
        "    return width, height, label, vertexlist"
      ],
      "execution_count": 14,
      "outputs": []
    },
    {
      "cell_type": "code",
      "metadata": {
        "colab": {
          "base_uri": "https://localhost:8080/"
        },
        "id": "FlcCswQR0bA5",
        "scrolled": true,
        "outputId": "70c0e3dd-f8c3-4365-9fbb-d8958e132ca8"
      },
      "source": [
        "def grader_3(file):\n",
        "    w, h, labels, vertexlist = get_poly(file)\n",
        "    print(len((set(labels)))==18 and len(vertexlist)==227 and w==1920 and h==1080 \\\n",
        "          and isinstance(vertexlist,list) and isinstance(vertexlist[0],list) and isinstance(vertexlist[0][0],tuple) )\n",
        "\n",
        "grader_3('/content/data/mask/201/frame0029_gtFine_polygons.json')"
      ],
      "execution_count": 15,
      "outputs": [
        {
          "output_type": "stream",
          "text": [
            "True\n"
          ],
          "name": "stdout"
        }
      ]
    },
    {
      "cell_type": "markdown",
      "metadata": {
        "id": "lw2MH_ua0bA8"
      },
      "source": [
        "## 4. Creating Image segmentations by drawing set of polygons"
      ]
    },
    {
      "cell_type": "markdown",
      "metadata": {
        "id": "mLrtu1f80bA8"
      },
      "source": [
        "### Example"
      ]
    },
    {
      "cell_type": "code",
      "metadata": {
        "colab": {
          "base_uri": "https://localhost:8080/",
          "height": 758
        },
        "id": "-O7l9Xfj0bA9",
        "scrolled": false,
        "outputId": "209842b4-c6e3-4e18-d0db-aafb906f4d27"
      },
      "source": [
        "import math \n",
        "from PIL import Image, ImageDraw \n",
        "from PIL import ImagePath  \n",
        "side=8\n",
        "x1 = [ ((math.cos(th) + 1) *9, (math.sin(th) + 1) * 6) for th in [i * (2 * math.pi) / side for i in range(side)] ]\n",
        "x2 = [ ((math.cos(th) + 2) *9, (math.sin(th) + 3) *6) for th in [i * (2 * math.pi) / side for i in range(side)] ]\n",
        "\n",
        "img = Image.new(\"RGB\", (28,28))\n",
        "img1 = ImageDraw.Draw(img)\n",
        "# please play with the fill value\n",
        "# writing the first polygon\n",
        "img1.polygon(x1, fill =20)\n",
        "# writing the second polygon\n",
        "img1.polygon(x2, fill =30)\n",
        "\n",
        "img=np.array(img)\n",
        "# note that the filling of the values happens at the channel 1, so we are considering only the first channel here\n",
        "plt.imshow(img)\n",
        "print(img.shape)\n",
        "print(img[:,:,0]//10)\n",
        "im = Image.fromarray(img[:,:,0])\n",
        "im.save(\"test_image.png\")"
      ],
      "execution_count": 16,
      "outputs": [
        {
          "output_type": "stream",
          "text": [
            "(28, 28, 3)\n",
            "[[0 0 0 0 0 0 0 0 2 0 0 0 0 0 0 0 0 0 0 0 0 0 0 0 0 0 0 0]\n",
            " [0 0 2 2 2 2 2 2 2 2 2 2 2 2 2 2 0 0 0 0 0 0 0 0 0 0 0 0]\n",
            " [0 0 2 2 2 2 2 2 2 2 2 2 2 2 2 2 2 0 0 0 0 0 0 0 0 0 0 0]\n",
            " [0 2 2 2 2 2 2 2 2 2 2 2 2 2 2 2 2 0 0 0 0 0 0 0 0 0 0 0]\n",
            " [0 2 2 2 2 2 2 2 2 2 2 2 2 2 2 2 2 2 0 0 0 0 0 0 0 0 0 0]\n",
            " [2 2 2 2 2 2 2 2 2 2 2 2 2 2 2 2 2 2 0 0 0 0 0 0 0 0 0 0]\n",
            " [2 2 2 2 2 2 2 2 2 2 2 2 2 2 2 2 2 2 2 0 0 0 0 0 0 0 0 0]\n",
            " [0 2 2 2 2 2 2 2 2 2 2 2 2 2 2 2 2 2 0 0 0 0 0 0 0 0 0 0]\n",
            " [0 2 2 2 2 2 2 2 2 2 2 2 2 2 2 2 2 0 0 0 0 0 0 0 0 0 0 0]\n",
            " [0 0 2 2 2 2 2 2 2 2 2 2 2 2 2 2 2 0 0 0 0 0 0 0 0 0 0 0]\n",
            " [0 0 2 2 2 2 2 2 2 2 2 2 2 2 2 2 0 0 0 0 0 0 0 0 0 0 0 0]\n",
            " [0 0 0 0 0 0 2 2 2 2 2 2 2 0 0 0 0 0 0 0 0 0 0 0 0 0 0 0]\n",
            " [0 0 0 0 0 0 0 0 0 2 0 0 0 0 0 0 0 3 0 0 0 0 0 0 0 0 0 0]\n",
            " [0 0 0 0 0 0 0 0 0 0 0 3 3 3 3 3 3 3 3 3 3 3 3 3 3 0 0 0]\n",
            " [0 0 0 0 0 0 0 0 0 0 0 3 3 3 3 3 3 3 3 3 3 3 3 3 3 3 0 0]\n",
            " [0 0 0 0 0 0 0 0 0 0 3 3 3 3 3 3 3 3 3 3 3 3 3 3 3 3 0 0]\n",
            " [0 0 0 0 0 0 0 0 0 0 3 3 3 3 3 3 3 3 3 3 3 3 3 3 3 3 3 0]\n",
            " [0 0 0 0 0 0 0 0 0 3 3 3 3 3 3 3 3 3 3 3 3 3 3 3 3 3 3 0]\n",
            " [0 0 0 0 0 0 0 0 0 3 3 3 3 3 3 3 3 3 3 3 3 3 3 3 3 3 3 3]\n",
            " [0 0 0 0 0 0 0 0 0 0 3 3 3 3 3 3 3 3 3 3 3 3 3 3 3 3 3 0]\n",
            " [0 0 0 0 0 0 0 0 0 0 3 3 3 3 3 3 3 3 3 3 3 3 3 3 3 3 0 0]\n",
            " [0 0 0 0 0 0 0 0 0 0 0 3 3 3 3 3 3 3 3 3 3 3 3 3 3 3 0 0]\n",
            " [0 0 0 0 0 0 0 0 0 0 0 3 3 3 3 3 3 3 3 3 3 3 3 3 3 0 0 0]\n",
            " [0 0 0 0 0 0 0 0 0 0 0 0 0 0 0 3 3 3 3 3 3 3 0 0 0 0 0 0]\n",
            " [0 0 0 0 0 0 0 0 0 0 0 0 0 0 0 0 0 0 3 0 0 0 0 0 0 0 0 0]\n",
            " [0 0 0 0 0 0 0 0 0 0 0 0 0 0 0 0 0 0 0 0 0 0 0 0 0 0 0 0]\n",
            " [0 0 0 0 0 0 0 0 0 0 0 0 0 0 0 0 0 0 0 0 0 0 0 0 0 0 0 0]\n",
            " [0 0 0 0 0 0 0 0 0 0 0 0 0 0 0 0 0 0 0 0 0 0 0 0 0 0 0 0]]\n"
          ],
          "name": "stdout"
        },
        {
          "output_type": "display_data",
          "data": {
            "image/png": "[encoded data removed]",
            "text/plain": [
              "<Figure size 432x288 with 1 Axes>"
            ]
          },
          "metadata": {
            "tags": [],
            "needs_background": "light"
          }
        }
      ]
    },
    {
      "cell_type": "code",
      "metadata": {
        "id": "bnAzJJhq0bBB"
      },
      "source": [
        "def compute_masks(data_df):\n",
        "    # after you have computed the vertexlist plot that polygone in image like this\n",
        "    \n",
        "    # img = Image.new(\"RGB\", (w, h))\n",
        "    # img1 = ImageDraw.Draw(img)\n",
        "    # img1.polygon(vertexlist[i], fill = label_clr[label[i]])\n",
        "    \n",
        "    # after drawing all the polygons that we collected from json file, \n",
        "    # you need to store that image in the folder like this \"data/output/scene/framenumber_gtFine_polygons.png\"\n",
        "    \n",
        "    # after saving the image into disk, store the path in a list\n",
        "    # after storing all the paths, add a column to the data_df['mask'] ex: data_df['mask']= mask_paths\n",
        "\n",
        "    mask = []\n",
        "    for i in tqdm(data_df['json']):\n",
        "        w,h,lable, vertex = get_poly(i)\n",
        "        img = Image.new(\"RGB\",size = (w,h))\n",
        "        img1 = ImageDraw.Draw(img)\n",
        "        for l,v in zip(lable,vertex):\n",
        "            try:\n",
        "                img1.polygon(v, fill = label_clr[l])\n",
        "            except TypeError as e:\n",
        "                pass\n",
        "                #this error arises due to empty vertex\\\n",
        "                # in polygon, un comment below print to see how many vertex is empty in this i'th json file\n",
        "                # print(i,v) \n",
        "        #changing file type from json to png and saving it to mask column\n",
        "        img=np.array(img)\n",
        "        # print(img[:,:,0]//10)\n",
        "        im = Image.fromarray(img[:,:,0])\n",
        "        p = i.replace('mask','output')\n",
        "        png_file = p.replace('json','png')\n",
        "        try:\n",
        "            os.makedirs(png_file[:24])\n",
        "        except FileExistsError:\n",
        "            pass\n",
        "        im.save(png_file)\n",
        "        mask.append(png_file)\n",
        "    data_df['mask'] = mask\n",
        "    return data_df"
      ],
      "execution_count": 17,
      "outputs": []
    },
    {
      "cell_type": "code",
      "metadata": {
        "id": "Wa8l3ienlCBA"
      },
      "source": [
        "# !rm -rf '/content/data/output'"
      ],
      "execution_count": 18,
      "outputs": []
    },
    {
      "cell_type": "code",
      "metadata": {
        "colab": {
          "base_uri": "https://localhost:8080/",
          "height": 221
        },
        "id": "hkDgQM280bBI",
        "outputId": "8436e2d7-d14c-4d13-f2d2-55dc71bb55ec"
      },
      "source": [
        "data_df = compute_masks(data_df)\n",
        "data_df.head()"
      ],
      "execution_count": 19,
      "outputs": [
        {
          "output_type": "stream",
          "text": [
            "100%|██████████| 4008/4008 [03:52<00:00, 17.23it/s]\n"
          ],
          "name": "stderr"
        },
        {
          "output_type": "execute_result",
          "data": {
            "text/html": [
              "<div>\n",
              "<style scoped>\n",
              "    .dataframe tbody tr th:only-of-type {\n",
              "        vertical-align: middle;\n",
              "    }\n",
              "\n",
              "    .dataframe tbody tr th {\n",
              "        vertical-align: top;\n",
              "    }\n",
              "\n",
              "    .dataframe thead th {\n",
              "        text-align: right;\n",
              "    }\n",
              "</style>\n",
              "<table border=\"1\" class=\"dataframe\">\n",
              "  <thead>\n",
              "    <tr style=\"text-align: right;\">\n",
              "      <th></th>\n",
              "      <th>images</th>\n",
              "      <th>json</th>\n",
              "      <th>mask</th>\n",
              "    </tr>\n",
              "  </thead>\n",
              "  <tbody>\n",
              "    <tr>\n",
              "      <th>0</th>\n",
              "      <td>/content/data/images/295/frame0310_leftImg8bit...</td>\n",
              "      <td>/content/data/mask/295/frame0310_gtFine_polygo...</td>\n",
              "      <td>/content/data/output/295/frame0310_gtFine_poly...</td>\n",
              "    </tr>\n",
              "    <tr>\n",
              "      <th>1</th>\n",
              "      <td>/content/data/images/295/frame0729_leftImg8bit...</td>\n",
              "      <td>/content/data/mask/295/frame0729_gtFine_polygo...</td>\n",
              "      <td>/content/data/output/295/frame0729_gtFine_poly...</td>\n",
              "    </tr>\n",
              "    <tr>\n",
              "      <th>2</th>\n",
              "      <td>/content/data/images/295/frame0870_leftImg8bit...</td>\n",
              "      <td>/content/data/mask/295/frame0870_gtFine_polygo...</td>\n",
              "      <td>/content/data/output/295/frame0870_gtFine_poly...</td>\n",
              "    </tr>\n",
              "    <tr>\n",
              "      <th>3</th>\n",
              "      <td>/content/data/images/295/frame10045_leftImg8bi...</td>\n",
              "      <td>/content/data/mask/295/frame10045_gtFine_polyg...</td>\n",
              "      <td>/content/data/output/295/frame10045_gtFine_pol...</td>\n",
              "    </tr>\n",
              "    <tr>\n",
              "      <th>4</th>\n",
              "      <td>/content/data/images/295/frame10152_leftImg8bi...</td>\n",
              "      <td>/content/data/mask/295/frame10152_gtFine_polyg...</td>\n",
              "      <td>/content/data/output/295/frame10152_gtFine_pol...</td>\n",
              "    </tr>\n",
              "  </tbody>\n",
              "</table>\n",
              "</div>"
            ],
            "text/plain": [
              "                                              images  ...                                               mask\n",
              "0  /content/data/images/295/frame0310_leftImg8bit...  ...  /content/data/output/295/frame0310_gtFine_poly...\n",
              "1  /content/data/images/295/frame0729_leftImg8bit...  ...  /content/data/output/295/frame0729_gtFine_poly...\n",
              "2  /content/data/images/295/frame0870_leftImg8bit...  ...  /content/data/output/295/frame0870_gtFine_poly...\n",
              "3  /content/data/images/295/frame10045_leftImg8bi...  ...  /content/data/output/295/frame10045_gtFine_pol...\n",
              "4  /content/data/images/295/frame10152_leftImg8bi...  ...  /content/data/output/295/frame10152_gtFine_pol...\n",
              "\n",
              "[5 rows x 3 columns]"
            ]
          },
          "metadata": {
            "tags": []
          },
          "execution_count": 19
        }
      ]
    },
    {
      "cell_type": "code",
      "metadata": {
        "colab": {
          "base_uri": "https://localhost:8080/",
          "height": 291
        },
        "id": "DqQibTJE0bBO",
        "scrolled": true,
        "outputId": "0a0b4aac-ffd8-4eb5-d2f5-3d8482b6c990"
      },
      "source": [
        "def grader_3():\n",
        "    url = \"https://i.imgur.com/4XSUlHk.png\"\n",
        "    url_response = urllib.request.urlopen(url)\n",
        "    img_array = np.array(bytearray(url_response.read()), dtype=np.uint8)\n",
        "    img = cv2.imdecode(img_array, -1)\n",
        "    my_img = cv2.imread('data/output/201/frame0029_gtFine_polygons.png')    \n",
        "    plt.imshow(my_img)\n",
        "    print((my_img[:,:,0]==img).all())\n",
        "    print(np.unique(img))\n",
        "    print(np.unique(my_img[:,:,0]))\n",
        "    data_df.to_csv('preprocessed_data.csv', index=False)\n",
        "grader_3()"
      ],
      "execution_count": 20,
      "outputs": [
        {
          "output_type": "stream",
          "text": [
            "False\n",
            "[  0  10  20  40  50  60  70  80  90 100 120 130 140 150 160]\n",
            "[  0  10  20  40  50  60  70  80  90 100 120 130 140 150 160]\n"
          ],
          "name": "stdout"
        },
        {
          "output_type": "display_data",
          "data": {
            "image/png": "[encoded data removed]",
            "text/plain": [
              "<Figure size 432x288 with 1 Axes>"
            ]
          },
          "metadata": {
            "tags": [],
            "needs_background": "light"
          }
        }
      ]
    },
    {
      "cell_type": "markdown",
      "metadata": {
        "id": "t9RPr0aZ0bBU"
      },
      "source": [
        "# Task 2: Applying Unet to segment the images"
      ]
    },
    {
      "cell_type": "markdown",
      "metadata": {
        "id": "HDRjb4AD0bBV"
      },
      "source": [
        "<pre>\n",
        "* please check the paper: https://arxiv.org/abs/1505.04597\n",
        "\n",
        "* <img src='https://i.imgur.com/rD4yP7J.jpg' width=\"500\">\n",
        "\n",
        "* As a part of this assignment we won't writingt this whole architecture, rather we will be doing transfer learning\n",
        "\n",
        "* please check the library <a hreaf='https://github.com/qubvel/segmentation_models'>https://github.com/qubvel/segmentation_models</a>\n",
        "\n",
        "* You can install it like this \"pip install -U segmentation-models==0.2.1\", even in google colab you can install the    same with \"!pip install -U segmentation-models==0.2.1\" \n",
        "\n",
        "* Check the reference notebook in which we have solved one end to end case study of image forgery detection using same  unet\n",
        "\n",
        "* The number of channels in the output will depend on the number of classes in your data, since we know that we are having 21 classes, the number of channels in the output will also be 21\n",
        "\n",
        "* <strong>This is where we want you to explore, how do you featurize your created segmentation map note that the original map will be of (w, h, 1) and the output will be (w, h, 21) how will you calculate the loss</strong>, you can check the examples in segmentation github\n",
        "\n",
        "* please use the loss function that is used in the refence notebooks\n",
        "\n",
        "</pre>"
      ]
    },
    {
      "cell_type": "markdown",
      "metadata": {
        "id": "mrVV7zW60bBW"
      },
      "source": [
        "### Task 2.1: Dice loss"
      ]
    },
    {
      "cell_type": "markdown",
      "metadata": {
        "id": "1zzYwXRi0bBW"
      },
      "source": [
        "<pre>\n",
        "* Explain the Dice loss\n",
        "* 1. Write the formualtion\n",
        "    D = 2 * sum(Xi * Yi) / sum(squre(Xi) * sum(sqare(Yi))\n",
        "    dice_loss = 1 - D\n",
        "* 2. Range of the loss function = 0 to 1\n",
        "* 3. Interpretation of loss function = \n",
        "* 4. Write your understanding of the loss function, how does it helps in segmentation\n",
        "</pre>"
      ]
    },
    {
      "cell_type": "markdown",
      "metadata": {
        "id": "akXZdZBx0bBX"
      },
      "source": [
        "### Task 2.2: Training Unet"
      ]
    },
    {
      "cell_type": "markdown",
      "metadata": {
        "id": "U5bKBqDn0bBX"
      },
      "source": [
        "\n",
        "<pre>\n",
        "* Split the data into 80:20.\n",
        "* Train the UNET on the given dataset and plot the train and validation loss.\n",
        "* As shown in the reference notebook plot 20 images from the test data along with its segmentation map, predicted map.\n",
        "</pre>"
      ]
    },
    {
      "cell_type": "code",
      "metadata": {
        "colab": {
          "base_uri": "https://localhost:8080/"
        },
        "id": "AejvPWmYkvz0",
        "outputId": "7c8271d4-7192-44d7-cc4c-9e71a3fb3a32"
      },
      "source": [
        "!pip install tensorflow==2.2.0\n",
        "!pip install keras==2.3.1 \n",
        "!pip install -U segmentation-models==0.2.1\n",
        "\n",
        "# above versions r needed to use segementation models *****************\n",
        "import tensorflow as tf\n",
        "# tf.enable_eager_execution()\n",
        "import os\n",
        "import numpy as np\n",
        "import pandas as pd\n",
        "import cv2\n",
        "import matplotlib.pyplot as plt\n",
        "# from hilbert import hilbertCurve\n",
        "import imgaug.augmenters as iaa\n",
        "import numpy as np\n",
        "# import albumentations as A\n",
        "os.environ['TF_FORCE_GPU_ALLOW_GROWTH'] = 'true'\n",
        "from tensorflow.keras import layers\n",
        "from tensorflow.keras.layers import Dense,Input,Conv2D,MaxPool2D,Activation,Dropout,Flatten, BatchNormalization, ReLU, Reshape #CuDNNLSTM\n",
        "from tensorflow.keras.models import Model\n",
        "import random as rn\n",
        "from tensorflow.keras.layers import Flatten"
      ],
      "execution_count": 21,
      "outputs": [
        {
          "output_type": "stream",
          "text": [
            "Collecting tensorflow==2.2.0\n",
            "\u001b[?25l  Downloading https://files.pythonhosted.org/packages/4c/1a/0d79814736cfecc825ab8094b39648cc9c46af7af1bae839928acb73b4dd/tensorflow-2.2.0-cp37-cp37m-manylinux2010_x86_64.whl (516.2MB)\n",
            "\u001b[K     |████████████████████████████████| 516.2MB 26kB/s \n",
            "\u001b[?25hRequirement already satisfied: grpcio>=1.8.6 in /usr/local/lib/python3.7/dist-packages (from tensorflow==2.2.0) (1.32.0)\n",
            "Collecting tensorboard<2.3.0,>=2.2.0\n",
            "\u001b[?25l  Downloading https://files.pythonhosted.org/packages/1d/74/0a6fcb206dcc72a6da9a62dd81784bfdbff5fedb099982861dc2219014fb/tensorboard-2.2.2-py3-none-any.whl (3.0MB)\n",
            "\u001b[K     |████████████████████████████████| 3.0MB 55.9MB/s \n",
            "\u001b[?25hRequirement already satisfied: scipy==1.4.1; python_version >= \"3\" in /usr/local/lib/python3.7/dist-packages (from tensorflow==2.2.0) (1.4.1)\n",
            "Requirement already satisfied: google-pasta>=0.1.8 in /usr/local/lib/python3.7/dist-packages (from tensorflow==2.2.0) (0.2.0)\n",
            "Requirement already satisfied: opt-einsum>=2.3.2 in /usr/local/lib/python3.7/dist-packages (from tensorflow==2.2.0) (3.3.0)\n",
            "Requirement already satisfied: wheel>=0.26; python_version >= \"3\" in /usr/local/lib/python3.7/dist-packages (from tensorflow==2.2.0) (0.36.2)\n",
            "Requirement already satisfied: keras-preprocessing>=1.1.0 in /usr/local/lib/python3.7/dist-packages (from tensorflow==2.2.0) (1.1.2)\n",
            "Requirement already satisfied: six>=1.12.0 in /usr/local/lib/python3.7/dist-packages (from tensorflow==2.2.0) (1.15.0)\n",
            "Collecting tensorflow-estimator<2.3.0,>=2.2.0\n",
            "\u001b[?25l  Downloading https://files.pythonhosted.org/packages/a4/f5/926ae53d6a226ec0fda5208e0e581cffed895ccc89e36ba76a8e60895b78/tensorflow_estimator-2.2.0-py2.py3-none-any.whl (454kB)\n",
            "\u001b[K     |████████████████████████████████| 460kB 51.9MB/s \n",
            "\u001b[?25hRequirement already satisfied: numpy<2.0,>=1.16.0 in /usr/local/lib/python3.7/dist-packages (from tensorflow==2.2.0) (1.19.5)\n",
            "Requirement already satisfied: protobuf>=3.8.0 in /usr/local/lib/python3.7/dist-packages (from tensorflow==2.2.0) (3.12.4)\n",
            "Requirement already satisfied: h5py<2.11.0,>=2.10.0 in /usr/local/lib/python3.7/dist-packages (from tensorflow==2.2.0) (2.10.0)\n",
            "Requirement already satisfied: termcolor>=1.1.0 in /usr/local/lib/python3.7/dist-packages (from tensorflow==2.2.0) (1.1.0)\n",
            "Requirement already satisfied: absl-py>=0.7.0 in /usr/local/lib/python3.7/dist-packages (from tensorflow==2.2.0) (0.12.0)\n",
            "Requirement already satisfied: astunparse==1.6.3 in /usr/local/lib/python3.7/dist-packages (from tensorflow==2.2.0) (1.6.3)\n",
            "Requirement already satisfied: gast==0.3.3 in /usr/local/lib/python3.7/dist-packages (from tensorflow==2.2.0) (0.3.3)\n",
            "Requirement already satisfied: wrapt>=1.11.1 in /usr/local/lib/python3.7/dist-packages (from tensorflow==2.2.0) (1.12.1)\n",
            "Requirement already satisfied: setuptools>=41.0.0 in /usr/local/lib/python3.7/dist-packages (from tensorboard<2.3.0,>=2.2.0->tensorflow==2.2.0) (56.0.0)\n",
            "Requirement already satisfied: werkzeug>=0.11.15 in /usr/local/lib/python3.7/dist-packages (from tensorboard<2.3.0,>=2.2.0->tensorflow==2.2.0) (1.0.1)\n",
            "Requirement already satisfied: markdown>=2.6.8 in /usr/local/lib/python3.7/dist-packages (from tensorboard<2.3.0,>=2.2.0->tensorflow==2.2.0) (3.3.4)\n",
            "Requirement already satisfied: google-auth<2,>=1.6.3 in /usr/local/lib/python3.7/dist-packages (from tensorboard<2.3.0,>=2.2.0->tensorflow==2.2.0) (1.28.1)\n",
            "Requirement already satisfied: google-auth-oauthlib<0.5,>=0.4.1 in /usr/local/lib/python3.7/dist-packages (from tensorboard<2.3.0,>=2.2.0->tensorflow==2.2.0) (0.4.4)\n",
            "Requirement already satisfied: tensorboard-plugin-wit>=1.6.0 in /usr/local/lib/python3.7/dist-packages (from tensorboard<2.3.0,>=2.2.0->tensorflow==2.2.0) (1.8.0)\n",
            "Requirement already satisfied: requests<3,>=2.21.0 in /usr/local/lib/python3.7/dist-packages (from tensorboard<2.3.0,>=2.2.0->tensorflow==2.2.0) (2.23.0)\n",
            "Requirement already satisfied: importlib-metadata; python_version < \"3.8\" in /usr/local/lib/python3.7/dist-packages (from markdown>=2.6.8->tensorboard<2.3.0,>=2.2.0->tensorflow==2.2.0) (3.10.1)\n",
            "Requirement already satisfied: pyasn1-modules>=0.2.1 in /usr/local/lib/python3.7/dist-packages (from google-auth<2,>=1.6.3->tensorboard<2.3.0,>=2.2.0->tensorflow==2.2.0) (0.2.8)\n",
            "Requirement already satisfied: rsa<5,>=3.1.4; python_version >= \"3.6\" in /usr/local/lib/python3.7/dist-packages (from google-auth<2,>=1.6.3->tensorboard<2.3.0,>=2.2.0->tensorflow==2.2.0) (4.7.2)\n",
            "Requirement already satisfied: cachetools<5.0,>=2.0.0 in /usr/local/lib/python3.7/dist-packages (from google-auth<2,>=1.6.3->tensorboard<2.3.0,>=2.2.0->tensorflow==2.2.0) (4.2.1)\n",
            "Requirement already satisfied: requests-oauthlib>=0.7.0 in /usr/local/lib/python3.7/dist-packages (from google-auth-oauthlib<0.5,>=0.4.1->tensorboard<2.3.0,>=2.2.0->tensorflow==2.2.0) (1.3.0)\n",
            "Requirement already satisfied: certifi>=2017.4.17 in /usr/local/lib/python3.7/dist-packages (from requests<3,>=2.21.0->tensorboard<2.3.0,>=2.2.0->tensorflow==2.2.0) (2020.12.5)\n",
            "Requirement already satisfied: urllib3!=1.25.0,!=1.25.1,<1.26,>=1.21.1 in /usr/local/lib/python3.7/dist-packages (from requests<3,>=2.21.0->tensorboard<2.3.0,>=2.2.0->tensorflow==2.2.0) (1.24.3)\n",
            "Requirement already satisfied: chardet<4,>=3.0.2 in /usr/local/lib/python3.7/dist-packages (from requests<3,>=2.21.0->tensorboard<2.3.0,>=2.2.0->tensorflow==2.2.0) (3.0.4)\n",
            "Requirement already satisfied: idna<3,>=2.5 in /usr/local/lib/python3.7/dist-packages (from requests<3,>=2.21.0->tensorboard<2.3.0,>=2.2.0->tensorflow==2.2.0) (2.10)\n",
            "Requirement already satisfied: zipp>=0.5 in /usr/local/lib/python3.7/dist-packages (from importlib-metadata; python_version < \"3.8\"->markdown>=2.6.8->tensorboard<2.3.0,>=2.2.0->tensorflow==2.2.0) (3.4.1)\n",
            "Requirement already satisfied: typing-extensions>=3.6.4; python_version < \"3.8\" in /usr/local/lib/python3.7/dist-packages (from importlib-metadata; python_version < \"3.8\"->markdown>=2.6.8->tensorboard<2.3.0,>=2.2.0->tensorflow==2.2.0) (3.7.4.3)\n",
            "Requirement already satisfied: pyasn1<0.5.0,>=0.4.6 in /usr/local/lib/python3.7/dist-packages (from pyasn1-modules>=0.2.1->google-auth<2,>=1.6.3->tensorboard<2.3.0,>=2.2.0->tensorflow==2.2.0) (0.4.8)\n",
            "Requirement already satisfied: oauthlib>=3.0.0 in /usr/local/lib/python3.7/dist-packages (from requests-oauthlib>=0.7.0->google-auth-oauthlib<0.5,>=0.4.1->tensorboard<2.3.0,>=2.2.0->tensorflow==2.2.0) (3.1.0)\n",
            "Installing collected packages: tensorboard, tensorflow-estimator, tensorflow\n",
            "  Found existing installation: tensorboard 2.4.1\n",
            "    Uninstalling tensorboard-2.4.1:\n",
            "      Successfully uninstalled tensorboard-2.4.1\n",
            "  Found existing installation: tensorflow-estimator 2.4.0\n",
            "    Uninstalling tensorflow-estimator-2.4.0:\n",
            "      Successfully uninstalled tensorflow-estimator-2.4.0\n",
            "  Found existing installation: tensorflow 2.4.1\n",
            "    Uninstalling tensorflow-2.4.1:\n",
            "      Successfully uninstalled tensorflow-2.4.1\n",
            "Successfully installed tensorboard-2.2.2 tensorflow-2.2.0 tensorflow-estimator-2.2.0\n",
            "Collecting keras==2.3.1\n",
            "\u001b[?25l  Downloading https://files.pythonhosted.org/packages/ad/fd/6bfe87920d7f4fd475acd28500a42482b6b84479832bdc0fe9e589a60ceb/Keras-2.3.1-py2.py3-none-any.whl (377kB)\n",
            "\u001b[K     |████████████████████████████████| 378kB 9.2MB/s \n",
            "\u001b[?25hRequirement already satisfied: h5py in /usr/local/lib/python3.7/dist-packages (from keras==2.3.1) (2.10.0)\n",
            "Requirement already satisfied: six>=1.9.0 in /usr/local/lib/python3.7/dist-packages (from keras==2.3.1) (1.15.0)\n",
            "Requirement already satisfied: keras-preprocessing>=1.0.5 in /usr/local/lib/python3.7/dist-packages (from keras==2.3.1) (1.1.2)\n",
            "Requirement already satisfied: numpy>=1.9.1 in /usr/local/lib/python3.7/dist-packages (from keras==2.3.1) (1.19.5)\n",
            "Collecting keras-applications>=1.0.6\n",
            "\u001b[?25l  Downloading https://files.pythonhosted.org/packages/71/e3/19762fdfc62877ae9102edf6342d71b28fbfd9dea3d2f96a882ce099b03f/Keras_Applications-1.0.8-py3-none-any.whl (50kB)\n",
            "\u001b[K     |████████████████████████████████| 51kB 5.1MB/s \n",
            "\u001b[?25hRequirement already satisfied: pyyaml in /usr/local/lib/python3.7/dist-packages (from keras==2.3.1) (3.13)\n",
            "Requirement already satisfied: scipy>=0.14 in /usr/local/lib/python3.7/dist-packages (from keras==2.3.1) (1.4.1)\n",
            "Installing collected packages: keras-applications, keras\n",
            "  Found existing installation: Keras 2.4.3\n",
            "    Uninstalling Keras-2.4.3:\n",
            "      Successfully uninstalled Keras-2.4.3\n",
            "Successfully installed keras-2.3.1 keras-applications-1.0.8\n",
            "Collecting segmentation-models==0.2.1\n",
            "\u001b[?25l  Downloading https://files.pythonhosted.org/packages/10/bf/253c8834014a834cacf2384c72872167fb30ccae7a56c6ce46285b03245c/segmentation_models-0.2.1-py2.py3-none-any.whl (44kB)\n",
            "\u001b[K     |████████████████████████████████| 51kB 4.3MB/s \n",
            "\u001b[?25hRequirement already satisfied, skipping upgrade: scikit-image in /usr/local/lib/python3.7/dist-packages (from segmentation-models==0.2.1) (0.16.2)\n",
            "Collecting image-classifiers==0.2.0\n",
            "\u001b[?25l  Downloading https://files.pythonhosted.org/packages/de/32/a1e74e03f74506d1e4b46bb2732ca5a7b18ac52a36b5e3547e63537ce74c/image_classifiers-0.2.0-py2.py3-none-any.whl (76kB)\n",
            "\u001b[K     |████████████████████████████████| 81kB 6.4MB/s \n",
            "\u001b[?25hRequirement already satisfied, skipping upgrade: keras-applications>=1.0.7 in /usr/local/lib/python3.7/dist-packages (from segmentation-models==0.2.1) (1.0.8)\n",
            "Requirement already satisfied, skipping upgrade: keras>=2.2.0 in /usr/local/lib/python3.7/dist-packages (from segmentation-models==0.2.1) (2.3.1)\n",
            "Requirement already satisfied, skipping upgrade: imageio>=2.3.0 in /usr/local/lib/python3.7/dist-packages (from scikit-image->segmentation-models==0.2.1) (2.4.1)\n",
            "Requirement already satisfied, skipping upgrade: matplotlib!=3.0.0,>=2.0.0 in /usr/local/lib/python3.7/dist-packages (from scikit-image->segmentation-models==0.2.1) (3.2.2)\n",
            "Requirement already satisfied, skipping upgrade: scipy>=0.19.0 in /usr/local/lib/python3.7/dist-packages (from scikit-image->segmentation-models==0.2.1) (1.4.1)\n",
            "Requirement already satisfied, skipping upgrade: pillow>=4.3.0 in /usr/local/lib/python3.7/dist-packages (from scikit-image->segmentation-models==0.2.1) (7.1.2)\n",
            "Requirement already satisfied, skipping upgrade: networkx>=2.0 in /usr/local/lib/python3.7/dist-packages (from scikit-image->segmentation-models==0.2.1) (2.5.1)\n",
            "Requirement already satisfied, skipping upgrade: PyWavelets>=0.4.0 in /usr/local/lib/python3.7/dist-packages (from scikit-image->segmentation-models==0.2.1) (1.1.1)\n",
            "Requirement already satisfied, skipping upgrade: h5py in /usr/local/lib/python3.7/dist-packages (from keras-applications>=1.0.7->segmentation-models==0.2.1) (2.10.0)\n",
            "Requirement already satisfied, skipping upgrade: numpy>=1.9.1 in /usr/local/lib/python3.7/dist-packages (from keras-applications>=1.0.7->segmentation-models==0.2.1) (1.19.5)\n",
            "Requirement already satisfied, skipping upgrade: pyyaml in /usr/local/lib/python3.7/dist-packages (from keras>=2.2.0->segmentation-models==0.2.1) (3.13)\n",
            "Requirement already satisfied, skipping upgrade: six>=1.9.0 in /usr/local/lib/python3.7/dist-packages (from keras>=2.2.0->segmentation-models==0.2.1) (1.15.0)\n",
            "Requirement already satisfied, skipping upgrade: keras-preprocessing>=1.0.5 in /usr/local/lib/python3.7/dist-packages (from keras>=2.2.0->segmentation-models==0.2.1) (1.1.2)\n",
            "Requirement already satisfied, skipping upgrade: python-dateutil>=2.1 in /usr/local/lib/python3.7/dist-packages (from matplotlib!=3.0.0,>=2.0.0->scikit-image->segmentation-models==0.2.1) (2.8.1)\n",
            "Requirement already satisfied, skipping upgrade: pyparsing!=2.0.4,!=2.1.2,!=2.1.6,>=2.0.1 in /usr/local/lib/python3.7/dist-packages (from matplotlib!=3.0.0,>=2.0.0->scikit-image->segmentation-models==0.2.1) (2.4.7)\n",
            "Requirement already satisfied, skipping upgrade: cycler>=0.10 in /usr/local/lib/python3.7/dist-packages (from matplotlib!=3.0.0,>=2.0.0->scikit-image->segmentation-models==0.2.1) (0.10.0)\n",
            "Requirement already satisfied, skipping upgrade: kiwisolver>=1.0.1 in /usr/local/lib/python3.7/dist-packages (from matplotlib!=3.0.0,>=2.0.0->scikit-image->segmentation-models==0.2.1) (1.3.1)\n",
            "Requirement already satisfied, skipping upgrade: decorator<5,>=4.3 in /usr/local/lib/python3.7/dist-packages (from networkx>=2.0->scikit-image->segmentation-models==0.2.1) (4.4.2)\n",
            "Installing collected packages: image-classifiers, segmentation-models\n",
            "Successfully installed image-classifiers-0.2.0 segmentation-models-0.2.1\n"
          ],
          "name": "stdout"
        }
      ]
    },
    {
      "cell_type": "code",
      "metadata": {
        "id": "imMAfY1xmOsf"
      },
      "source": [
        "from sklearn.model_selection import train_test_split\n",
        "X_train, X_test = train_test_split(data_df, test_size=0.2)"
      ],
      "execution_count": 22,
      "outputs": []
    },
    {
      "cell_type": "code",
      "metadata": {
        "colab": {
          "base_uri": "https://localhost:8080/"
        },
        "id": "RRUbAfwWpRPs",
        "outputId": "2b200b3f-f1b3-4b86-8c8d-14b8e5d2f9e4"
      },
      "source": [
        "# SM_FRAMEWORK=tf.keras\n",
        "import segmentation_models as sm\n",
        "from segmentation_models import Unet\n",
        "# sm.set_framework('tf.keras')\n",
        "tf.keras.backend.set_image_data_format('channels_last')"
      ],
      "execution_count": 23,
      "outputs": [
        {
          "output_type": "stream",
          "text": [
            "Using TensorFlow backend.\n",
            "/usr/local/lib/python3.7/dist-packages/classification_models/resnext/__init__.py:4: UserWarning: Current ResNext models are deprecated, use keras.applications ResNeXt models\n",
            "  warnings.warn('Current ResNext models are deprecated, '\n"
          ],
          "name": "stderr"
        }
      ]
    },
    {
      "cell_type": "code",
      "metadata": {
        "id": "gahzDfprpS2H"
      },
      "source": [
        "model = Unet('resnet34', encoder_weights='imagenet', classes=1, activation='sigmoid', input_shape=(256,256,3))"
      ],
      "execution_count": 29,
      "outputs": []
    },
    {
      "cell_type": "code",
      "metadata": {
        "id": "9Xc4OIpHJBK0"
      },
      "source": [
        "import imgaug.augmenters as iaa\n",
        "# For the assignment choose any 4 augumentation techniques\n",
        "# check the imgaug documentations for more augmentations\n",
        "aug2 = iaa.Fliplr(1)\n",
        "aug3 = iaa.Flipud(1)\n",
        "aug4 = iaa.Emboss(alpha=(1), strength=1)\n",
        "aug5 = iaa.DirectedEdgeDetect(alpha=(0.8), direction=(1.0))\n",
        "aug6 = iaa.Sharpen(alpha=(1.0), lightness=(1.5))"
      ],
      "execution_count": 25,
      "outputs": []
    },
    {
      "cell_type": "code",
      "metadata": {
        "id": "Ozd5YJzwJBK0"
      },
      "source": [
        "def visualize(**images):\n",
        "    n = len(images)\n",
        "    plt.figure(figsize=(16, 5))\n",
        "    for i, (name, image) in enumerate(images.items()):\n",
        "        plt.subplot(1, n, i + 1)\n",
        "        plt.xticks([])\n",
        "        plt.yticks([])\n",
        "        plt.title(' '.join(name.split('_')).title())\n",
        "        if i==1:\n",
        "            plt.imshow(image, cmap='gray', vmax=1, vmin=0)\n",
        "        else:\n",
        "            plt.imshow(image)\n",
        "    plt.show()\n",
        "    \n",
        "# def normalize_image(mask):\n",
        "#     mask = mask/255\n",
        "#     return mask\n",
        "\n",
        "class Dataset:\n",
        "    # we will be modifying this CLASSES according to your data/problems\n",
        "    # CLASSES = ['edited','non-edited']\n",
        "    \n",
        "    # the parameters needs to changed based on your requirements\n",
        "    # here we are collecting the file_names because in our dataset, both our images and maks will have same file name\n",
        "    # ex: fil_name.jpg   file_name.mask.jpg\n",
        "    def __init__(self, data, classes):\n",
        "        self.w = 256\n",
        "        self.h = 256\n",
        "        # self.ids = file_names\n",
        "        # the paths of images\n",
        "        self.images_fps   = data['images'].tolist()\n",
        "        # the paths of segmentation images\n",
        "        self.masks_fps    = data['mask'].tolist()\n",
        "        # giving labels for each class\n",
        "        self.class_values = set(list(classes.values()))\n",
        "    \n",
        "    def __getitem__(self, i):\n",
        "        \n",
        "        # read data\n",
        "        image = cv2.imread(self.images_fps[i], cv2.IMREAD_UNCHANGED) \n",
        "        image = cv2.resize(image,(self.w,self.h),interpolation=cv2.INTER_AREA)\n",
        "        image = cv2.cvtColor(image, cv2.COLOR_BGR2RGB)\n",
        "        mask  = cv2.imread(self.masks_fps[i], cv2.IMREAD_UNCHANGED)\n",
        "        mask = cv2.resize(mask,(self.w,self.h),interpolation=cv2.INTER_AREA)\n",
        "        # image_mask = normalize_image(mask)\n",
        "\n",
        "        \n",
        "        image_masks = [(mask == v) for v in self.class_values] # this line use unique color(that we speciified before as lable_clr) to seperate each class\n",
        "        image_mask = np.stack(image_masks, axis=-1).astype('float')\n",
        "   \n",
        "        # a = np.random.uniform()\n",
        "        # if a<0.2:\n",
        "        #     image = aug2.augment_image(image)\n",
        "        #     image_mask = aug2.augment_image(image_mask)\n",
        "        # elif a<0.4:\n",
        "        #     image = aug3.augment_image(image)\n",
        "        #     image_mask = aug3.augment_image(image_mask)\n",
        "        # elif a<0.6:\n",
        "        #     image = aug4.augment_image(image)\n",
        "        #     image_mask = aug4.augment_image(image_mask)\n",
        "        # elif a<0.8:\n",
        "        #     image = aug5.augment_image(image)\n",
        "        #     image_mask = image_mask\n",
        "        # else:\n",
        "        #     image = aug6.augment_image(image)\n",
        "        #     image_mask = aug6.augment_image(image_mask)\n",
        "            \n",
        "        return image, image_mask\n",
        "        \n",
        "    def __len__(self):\n",
        "        return len(self.images_fps)\n",
        "    \n",
        "    \n",
        "class Dataloder(tf.keras.utils.Sequence):    \n",
        "    def __init__(self, dataset, batch_size=1, shuffle=False):\n",
        "        self.dataset = dataset\n",
        "        self.batch_size = batch_size\n",
        "        self.shuffle = shuffle\n",
        "        self.indexes = np.arange(len(dataset))\n",
        "\n",
        "    def __getitem__(self, i):\n",
        "        \n",
        "        # collect batch data\n",
        "        start = i * self.batch_size\n",
        "        stop = (i + 1) * self.batch_size\n",
        "        data = []\n",
        "        for j in range(start, stop):\n",
        "            data.append(self.dataset[j])\n",
        "        \n",
        "        batch = [np.stack(samples, axis=0) for samples in zip(*data)]\n",
        "        \n",
        "        return tuple(batch)\n",
        "    \n",
        "    def __len__(self):\n",
        "        return len(self.indexes) // self.batch_size\n",
        "    \n",
        "    def on_epoch_end(self):\n",
        "        if self.shuffle:\n",
        "            self.indexes = np.random.permutation(self.indexes)"
      ],
      "execution_count": 30,
      "outputs": []
    },
    {
      "cell_type": "code",
      "metadata": {
        "id": "f57s423dJBK1"
      },
      "source": [
        "# https://github.com/qubvel/segmentation_models\n",
        "import segmentation_models as sm\n",
        "import keras\n",
        "from segmentation_models.metrics import iou_score\n",
        "from keras.callbacks import ModelCheckpoint\n",
        "from keras.callbacks import ReduceLROnPlateau\n",
        "from keras.optimizers import Adam\n",
        "import tensorflow.keras.backend as K\n",
        "\n",
        "# from segmentation_models import Unet\n",
        "\n",
        "optim = Adam()\n",
        "\n",
        "focal_loss = sm.losses.cce_dice_loss\n",
        "\n",
        "# actulally total_loss can be imported directly from library, above example just show you how to manipulate with losses\n",
        "# total_loss = sm.losses.binary_focal_dice_loss \n",
        "# or total_loss = sm.losses.categorical_focal_dice_loss \n",
        "\n",
        "model.compile(optim, focal_loss, metrics=[iou_score])"
      ],
      "execution_count": 31,
      "outputs": []
    },
    {
      "cell_type": "code",
      "metadata": {
        "colab": {
          "base_uri": "https://localhost:8080/"
        },
        "id": "l7HyEG18JBK1",
        "outputId": "401e0773-1537-4987-836f-a2c1ca031030"
      },
      "source": [
        "# Dataset for train images\n",
        "# CLASSES = ['edited']\n",
        "train_dataset = Dataset(X_train, label_clr)\n",
        "test_dataset  = Dataset(X_test, label_clr)\n",
        "\n",
        "BATCH_SIZE=1\n",
        "train_dataloader = Dataloder(train_dataset, batch_size=1, shuffle=True)\n",
        "test_dataloader = Dataloder(test_dataset, batch_size=1, shuffle=True)\n",
        "\n",
        "print(train_dataloader[0][0].shape)\n",
        "assert train_dataloader[0][0].shape == (BATCH_SIZE, 256,256, 3)\n",
        "assert train_dataloader[0][1].shape == (BATCH_SIZE, 256,256, 21)\n",
        "\n",
        "# custom callback for initializing lr before training\n",
        "class init_lr(tf.keras.callbacks.Callback):\n",
        "    def on_train_begin(self, logs = {}):\n",
        "        K.set_value(self.model.optimizer.lr, 0.001)\n",
        "\n",
        "# define callbacks for learning rate scheduling and best checkpoints saving\n",
        "callbacks = [\n",
        "    ModelCheckpoint('./best_model.h5', save_weights_only=True, save_best_only=True, \\\n",
        "                                       mode='min', monitor='val_iou_score'),\n",
        "    ReduceLROnPlateau(monitor='val_iou_score', min_lr=0.000001,patience=2),\n",
        "    init_lr()\n",
        "]"
      ],
      "execution_count": 32,
      "outputs": [
        {
          "output_type": "stream",
          "text": [
            "(1, 256, 256, 3)\n"
          ],
          "name": "stdout"
        }
      ]
    },
    {
      "cell_type": "code",
      "metadata": {
        "colab": {
          "base_uri": "https://localhost:8080/",
          "height": 408
        },
        "id": "rkIoyAGoJBK2",
        "outputId": "0a0cdc0c-1c01-4ece-b2eb-c18a0d378784"
      },
      "source": [
        "history = model.fit_generator(train_dataloader, steps_per_epoch=int(len(train_dataloader)/4), epochs=20,\\\n",
        "                              validation_data=test_dataloader,callbacks=callbacks)"
      ],
      "execution_count": 33,
      "outputs": [
        {
          "output_type": "stream",
          "text": [
            "Epoch 1/20\n",
            "801/801 [==============================] - 150s 187ms/step - loss: 0.9270 - iou_score: 0.0448 - val_loss: 0.9271 - val_iou_score: 0.0450\n",
            "Epoch 2/20\n",
            "801/801 [==============================] - 132s 165ms/step - loss: 0.9267 - iou_score: 0.0452 - val_loss: 0.9271 - val_iou_score: 0.0453\n",
            "Epoch 3/20\n",
            " 18/801 [..............................] - ETA: 1:16 - loss: 0.9269 - iou_score: 0.0453"
          ],
          "name": "stdout"
        },
        {
          "output_type": "error",
          "ename": "KeyboardInterrupt",
          "evalue": "ignored",
          "traceback": [
            "\u001b[0;31m---------------------------------------------------------------------------\u001b[0m",
            "\u001b[0;31mKeyboardInterrupt\u001b[0m                         Traceback (most recent call last)",
            "\u001b[0;32m<ipython-input-33-eb9309604b4f>\u001b[0m in \u001b[0;36m<module>\u001b[0;34m()\u001b[0m\n\u001b[0;32m----> 1\u001b[0;31m \u001b[0mhistory\u001b[0m \u001b[0;34m=\u001b[0m \u001b[0mmodel\u001b[0m\u001b[0;34m.\u001b[0m\u001b[0mfit_generator\u001b[0m\u001b[0;34m(\u001b[0m\u001b[0mtrain_dataloader\u001b[0m\u001b[0;34m,\u001b[0m \u001b[0msteps_per_epoch\u001b[0m\u001b[0;34m=\u001b[0m\u001b[0mint\u001b[0m\u001b[0;34m(\u001b[0m\u001b[0mlen\u001b[0m\u001b[0;34m(\u001b[0m\u001b[0mtrain_dataloader\u001b[0m\u001b[0;34m)\u001b[0m\u001b[0;34m/\u001b[0m\u001b[0;36m4\u001b[0m\u001b[0;34m)\u001b[0m\u001b[0;34m,\u001b[0m \u001b[0mepochs\u001b[0m\u001b[0;34m=\u001b[0m\u001b[0;36m20\u001b[0m\u001b[0;34m,\u001b[0m                              \u001b[0mvalidation_data\u001b[0m\u001b[0;34m=\u001b[0m\u001b[0mtest_dataloader\u001b[0m\u001b[0;34m,\u001b[0m\u001b[0mcallbacks\u001b[0m\u001b[0;34m=\u001b[0m\u001b[0mcallbacks\u001b[0m\u001b[0;34m)\u001b[0m\u001b[0;34m\u001b[0m\u001b[0;34m\u001b[0m\u001b[0m\n\u001b[0m",
            "\u001b[0;32m/usr/local/lib/python3.7/dist-packages/keras/legacy/interfaces.py\u001b[0m in \u001b[0;36mwrapper\u001b[0;34m(*args, **kwargs)\u001b[0m\n\u001b[1;32m     89\u001b[0m                 warnings.warn('Update your `' + object_name + '` call to the ' +\n\u001b[1;32m     90\u001b[0m                               'Keras 2 API: ' + signature, stacklevel=2)\n\u001b[0;32m---> 91\u001b[0;31m             \u001b[0;32mreturn\u001b[0m \u001b[0mfunc\u001b[0m\u001b[0;34m(\u001b[0m\u001b[0;34m*\u001b[0m\u001b[0margs\u001b[0m\u001b[0;34m,\u001b[0m \u001b[0;34m**\u001b[0m\u001b[0mkwargs\u001b[0m\u001b[0;34m)\u001b[0m\u001b[0;34m\u001b[0m\u001b[0;34m\u001b[0m\u001b[0m\n\u001b[0m\u001b[1;32m     92\u001b[0m         \u001b[0mwrapper\u001b[0m\u001b[0;34m.\u001b[0m\u001b[0m_original_function\u001b[0m \u001b[0;34m=\u001b[0m \u001b[0mfunc\u001b[0m\u001b[0;34m\u001b[0m\u001b[0;34m\u001b[0m\u001b[0m\n\u001b[1;32m     93\u001b[0m         \u001b[0;32mreturn\u001b[0m \u001b[0mwrapper\u001b[0m\u001b[0;34m\u001b[0m\u001b[0;34m\u001b[0m\u001b[0m\n",
            "\u001b[0;32m/usr/local/lib/python3.7/dist-packages/keras/engine/training.py\u001b[0m in \u001b[0;36mfit_generator\u001b[0;34m(self, generator, steps_per_epoch, epochs, verbose, callbacks, validation_data, validation_steps, validation_freq, class_weight, max_queue_size, workers, use_multiprocessing, shuffle, initial_epoch)\u001b[0m\n\u001b[1;32m   1730\u001b[0m             \u001b[0muse_multiprocessing\u001b[0m\u001b[0;34m=\u001b[0m\u001b[0muse_multiprocessing\u001b[0m\u001b[0;34m,\u001b[0m\u001b[0;34m\u001b[0m\u001b[0;34m\u001b[0m\u001b[0m\n\u001b[1;32m   1731\u001b[0m             \u001b[0mshuffle\u001b[0m\u001b[0;34m=\u001b[0m\u001b[0mshuffle\u001b[0m\u001b[0;34m,\u001b[0m\u001b[0;34m\u001b[0m\u001b[0;34m\u001b[0m\u001b[0m\n\u001b[0;32m-> 1732\u001b[0;31m             initial_epoch=initial_epoch)\n\u001b[0m\u001b[1;32m   1733\u001b[0m \u001b[0;34m\u001b[0m\u001b[0m\n\u001b[1;32m   1734\u001b[0m     \u001b[0;34m@\u001b[0m\u001b[0minterfaces\u001b[0m\u001b[0;34m.\u001b[0m\u001b[0mlegacy_generator_methods_support\u001b[0m\u001b[0;34m\u001b[0m\u001b[0;34m\u001b[0m\u001b[0m\n",
            "\u001b[0;32m/usr/local/lib/python3.7/dist-packages/keras/engine/training_generator.py\u001b[0m in \u001b[0;36mfit_generator\u001b[0;34m(model, generator, steps_per_epoch, epochs, verbose, callbacks, validation_data, validation_steps, validation_freq, class_weight, max_queue_size, workers, use_multiprocessing, shuffle, initial_epoch)\u001b[0m\n\u001b[1;32m    218\u001b[0m                                             \u001b[0msample_weight\u001b[0m\u001b[0;34m=\u001b[0m\u001b[0msample_weight\u001b[0m\u001b[0;34m,\u001b[0m\u001b[0;34m\u001b[0m\u001b[0;34m\u001b[0m\u001b[0m\n\u001b[1;32m    219\u001b[0m                                             \u001b[0mclass_weight\u001b[0m\u001b[0;34m=\u001b[0m\u001b[0mclass_weight\u001b[0m\u001b[0;34m,\u001b[0m\u001b[0;34m\u001b[0m\u001b[0;34m\u001b[0m\u001b[0m\n\u001b[0;32m--> 220\u001b[0;31m                                             reset_metrics=False)\n\u001b[0m\u001b[1;32m    221\u001b[0m \u001b[0;34m\u001b[0m\u001b[0m\n\u001b[1;32m    222\u001b[0m                 \u001b[0mouts\u001b[0m \u001b[0;34m=\u001b[0m \u001b[0mto_list\u001b[0m\u001b[0;34m(\u001b[0m\u001b[0mouts\u001b[0m\u001b[0;34m)\u001b[0m\u001b[0;34m\u001b[0m\u001b[0;34m\u001b[0m\u001b[0m\n",
            "\u001b[0;32m/usr/local/lib/python3.7/dist-packages/keras/engine/training.py\u001b[0m in \u001b[0;36mtrain_on_batch\u001b[0;34m(self, x, y, sample_weight, class_weight, reset_metrics)\u001b[0m\n\u001b[1;32m   1507\u001b[0m             \u001b[0msample_weight\u001b[0m\u001b[0;34m=\u001b[0m\u001b[0msample_weight\u001b[0m\u001b[0;34m,\u001b[0m\u001b[0;34m\u001b[0m\u001b[0;34m\u001b[0m\u001b[0m\n\u001b[1;32m   1508\u001b[0m             class_weight=class_weight)\n\u001b[0;32m-> 1509\u001b[0;31m         \u001b[0;32mif\u001b[0m \u001b[0mself\u001b[0m\u001b[0;34m.\u001b[0m\u001b[0m_uses_dynamic_learning_phase\u001b[0m\u001b[0;34m(\u001b[0m\u001b[0;34m)\u001b[0m\u001b[0;34m:\u001b[0m\u001b[0;34m\u001b[0m\u001b[0;34m\u001b[0m\u001b[0m\n\u001b[0m\u001b[1;32m   1510\u001b[0m             \u001b[0mins\u001b[0m \u001b[0;34m=\u001b[0m \u001b[0mx\u001b[0m \u001b[0;34m+\u001b[0m \u001b[0my\u001b[0m \u001b[0;34m+\u001b[0m \u001b[0msample_weights\u001b[0m \u001b[0;34m+\u001b[0m \u001b[0;34m[\u001b[0m\u001b[0;36m1\u001b[0m\u001b[0;34m]\u001b[0m\u001b[0;34m\u001b[0m\u001b[0;34m\u001b[0m\u001b[0m\n\u001b[1;32m   1511\u001b[0m         \u001b[0;32melse\u001b[0m\u001b[0;34m:\u001b[0m\u001b[0;34m\u001b[0m\u001b[0;34m\u001b[0m\u001b[0m\n",
            "\u001b[0;32m/usr/local/lib/python3.7/dist-packages/keras/engine/training.py\u001b[0m in \u001b[0;36m_uses_dynamic_learning_phase\u001b[0;34m(self)\u001b[0m\n\u001b[1;32m    380\u001b[0m     \u001b[0;32mdef\u001b[0m \u001b[0m_uses_dynamic_learning_phase\u001b[0m\u001b[0;34m(\u001b[0m\u001b[0mself\u001b[0m\u001b[0;34m)\u001b[0m\u001b[0;34m:\u001b[0m\u001b[0;34m\u001b[0m\u001b[0;34m\u001b[0m\u001b[0m\n\u001b[1;32m    381\u001b[0m         return (self.uses_learning_phase and\n\u001b[0;32m--> 382\u001b[0;31m                 not isinstance(K.learning_phase(), int))\n\u001b[0m\u001b[1;32m    383\u001b[0m \u001b[0;34m\u001b[0m\u001b[0m\n\u001b[1;32m    384\u001b[0m     \u001b[0;32mdef\u001b[0m \u001b[0m_set_inputs\u001b[0m\u001b[0;34m(\u001b[0m\u001b[0mself\u001b[0m\u001b[0;34m,\u001b[0m \u001b[0minputs\u001b[0m\u001b[0;34m,\u001b[0m \u001b[0moutputs\u001b[0m\u001b[0;34m=\u001b[0m\u001b[0;32mNone\u001b[0m\u001b[0;34m,\u001b[0m \u001b[0mtraining\u001b[0m\u001b[0;34m=\u001b[0m\u001b[0;32mNone\u001b[0m\u001b[0;34m)\u001b[0m\u001b[0;34m:\u001b[0m\u001b[0;34m\u001b[0m\u001b[0;34m\u001b[0m\u001b[0m\n",
            "\u001b[0;32m/usr/local/lib/python3.7/dist-packages/keras/backend/tensorflow_backend.py\u001b[0m in \u001b[0;36msymbolic_fn_wrapper\u001b[0;34m(*args, **kwargs)\u001b[0m\n\u001b[1;32m     73\u001b[0m         \u001b[0;32mif\u001b[0m \u001b[0m_SYMBOLIC_SCOPE\u001b[0m\u001b[0;34m.\u001b[0m\u001b[0mvalue\u001b[0m\u001b[0;34m:\u001b[0m\u001b[0;34m\u001b[0m\u001b[0;34m\u001b[0m\u001b[0m\n\u001b[1;32m     74\u001b[0m             \u001b[0;32mwith\u001b[0m \u001b[0mget_graph\u001b[0m\u001b[0;34m(\u001b[0m\u001b[0;34m)\u001b[0m\u001b[0;34m.\u001b[0m\u001b[0mas_default\u001b[0m\u001b[0;34m(\u001b[0m\u001b[0;34m)\u001b[0m\u001b[0;34m:\u001b[0m\u001b[0;34m\u001b[0m\u001b[0;34m\u001b[0m\u001b[0m\n\u001b[0;32m---> 75\u001b[0;31m                 \u001b[0;32mreturn\u001b[0m \u001b[0mfunc\u001b[0m\u001b[0;34m(\u001b[0m\u001b[0;34m*\u001b[0m\u001b[0margs\u001b[0m\u001b[0;34m,\u001b[0m \u001b[0;34m**\u001b[0m\u001b[0mkwargs\u001b[0m\u001b[0;34m)\u001b[0m\u001b[0;34m\u001b[0m\u001b[0;34m\u001b[0m\u001b[0m\n\u001b[0m\u001b[1;32m     76\u001b[0m         \u001b[0;32melse\u001b[0m\u001b[0;34m:\u001b[0m\u001b[0;34m\u001b[0m\u001b[0;34m\u001b[0m\u001b[0m\n\u001b[1;32m     77\u001b[0m             \u001b[0;32mreturn\u001b[0m \u001b[0mfunc\u001b[0m\u001b[0;34m(\u001b[0m\u001b[0;34m*\u001b[0m\u001b[0margs\u001b[0m\u001b[0;34m,\u001b[0m \u001b[0;34m**\u001b[0m\u001b[0mkwargs\u001b[0m\u001b[0;34m)\u001b[0m\u001b[0;34m\u001b[0m\u001b[0;34m\u001b[0m\u001b[0m\n",
            "\u001b[0;32m/usr/local/lib/python3.7/dist-packages/keras/backend/tensorflow_backend.py\u001b[0m in \u001b[0;36mlearning_phase\u001b[0;34m()\u001b[0m\n\u001b[1;32m    328\u001b[0m         \u001b[0mLearning\u001b[0m \u001b[0mphase\u001b[0m \u001b[0;34m(\u001b[0m\u001b[0mscalar\u001b[0m \u001b[0minteger\u001b[0m \u001b[0mtensor\u001b[0m \u001b[0;32mor\u001b[0m \u001b[0mPython\u001b[0m \u001b[0minteger\u001b[0m\u001b[0;34m)\u001b[0m\u001b[0;34m.\u001b[0m\u001b[0;34m\u001b[0m\u001b[0;34m\u001b[0m\u001b[0m\n\u001b[1;32m    329\u001b[0m     \"\"\"\n\u001b[0;32m--> 330\u001b[0;31m     \u001b[0mlp\u001b[0m \u001b[0;34m=\u001b[0m \u001b[0mtf_keras_backend\u001b[0m\u001b[0;34m.\u001b[0m\u001b[0mlearning_phase\u001b[0m\u001b[0;34m(\u001b[0m\u001b[0;34m)\u001b[0m\u001b[0;34m\u001b[0m\u001b[0;34m\u001b[0m\u001b[0m\n\u001b[0m\u001b[1;32m    331\u001b[0m     \u001b[0;32mif\u001b[0m \u001b[0m_is_tf_1\u001b[0m\u001b[0;34m(\u001b[0m\u001b[0;34m)\u001b[0m\u001b[0;34m:\u001b[0m\u001b[0;34m\u001b[0m\u001b[0;34m\u001b[0m\u001b[0m\n\u001b[1;32m    332\u001b[0m         \u001b[0;32mreturn\u001b[0m \u001b[0mlp\u001b[0m\u001b[0;34m\u001b[0m\u001b[0;34m\u001b[0m\u001b[0m\n",
            "\u001b[0;32m/usr/local/lib/python3.7/dist-packages/tensorflow/python/keras/backend.py\u001b[0m in \u001b[0;36mlearning_phase\u001b[0;34m()\u001b[0m\n\u001b[1;32m    328\u001b[0m       \u001b[0;31m# subgraph.\u001b[0m\u001b[0;34m\u001b[0m\u001b[0;34m\u001b[0m\u001b[0;34m\u001b[0m\u001b[0m\n\u001b[1;32m    329\u001b[0m       \u001b[0mlearning_phase\u001b[0m \u001b[0;34m=\u001b[0m \u001b[0m_GRAPH_LEARNING_PHASES\u001b[0m\u001b[0;34m[\u001b[0m\u001b[0;32mNone\u001b[0m\u001b[0;34m]\u001b[0m\u001b[0;34m\u001b[0m\u001b[0;34m\u001b[0m\u001b[0m\n\u001b[0;32m--> 330\u001b[0;31m   \u001b[0m_mark_func_graph_as_unsaveable\u001b[0m\u001b[0;34m(\u001b[0m\u001b[0mgraph\u001b[0m\u001b[0;34m,\u001b[0m \u001b[0mlearning_phase\u001b[0m\u001b[0;34m)\u001b[0m\u001b[0;34m\u001b[0m\u001b[0;34m\u001b[0m\u001b[0m\n\u001b[0m\u001b[1;32m    331\u001b[0m   \u001b[0;32mreturn\u001b[0m \u001b[0mlearning_phase\u001b[0m\u001b[0;34m\u001b[0m\u001b[0;34m\u001b[0m\u001b[0m\n\u001b[1;32m    332\u001b[0m \u001b[0;34m\u001b[0m\u001b[0m\n",
            "\u001b[0;32m/usr/local/lib/python3.7/dist-packages/tensorflow/python/keras/backend.py\u001b[0m in \u001b[0;36m_mark_func_graph_as_unsaveable\u001b[0;34m(graph, learning_phase)\u001b[0m\n\u001b[1;32m    347\u001b[0m     \u001b[0mlearning_phase\u001b[0m\u001b[0;34m:\u001b[0m \u001b[0mLearning\u001b[0m \u001b[0mphase\u001b[0m \u001b[0mplaceholder\u001b[0m \u001b[0;32mor\u001b[0m \u001b[0mint\u001b[0m \u001b[0mdefined\u001b[0m \u001b[0;32min\u001b[0m \u001b[0mthe\u001b[0m \u001b[0mgraph\u001b[0m\u001b[0;34m.\u001b[0m\u001b[0;34m\u001b[0m\u001b[0;34m\u001b[0m\u001b[0m\n\u001b[1;32m    348\u001b[0m   \"\"\"\n\u001b[0;32m--> 349\u001b[0;31m   \u001b[0;32mif\u001b[0m \u001b[0mgraph\u001b[0m\u001b[0;34m.\u001b[0m\u001b[0mbuilding_function\u001b[0m \u001b[0;32mand\u001b[0m \u001b[0mis_placeholder\u001b[0m\u001b[0;34m(\u001b[0m\u001b[0mlearning_phase\u001b[0m\u001b[0;34m)\u001b[0m\u001b[0;34m:\u001b[0m\u001b[0;34m\u001b[0m\u001b[0;34m\u001b[0m\u001b[0m\n\u001b[0m\u001b[1;32m    350\u001b[0m     graph.mark_as_unsaveable(\n\u001b[1;32m    351\u001b[0m         \u001b[0;34m'The keras learning phase placeholder was used inside a function. '\u001b[0m\u001b[0;34m\u001b[0m\u001b[0;34m\u001b[0m\u001b[0m\n",
            "\u001b[0;32m/usr/local/lib/python3.7/dist-packages/tensorflow/python/keras/backend.py\u001b[0m in \u001b[0;36mis_placeholder\u001b[0;34m(x)\u001b[0m\n\u001b[1;32m   1103\u001b[0m       \u001b[0;32mreturn\u001b[0m \u001b[0mpy_any\u001b[0m\u001b[0;34m(\u001b[0m\u001b[0mis_placeholder\u001b[0m\u001b[0;34m(\u001b[0m\u001b[0mc\u001b[0m\u001b[0;34m)\u001b[0m \u001b[0;32mfor\u001b[0m \u001b[0mc\u001b[0m \u001b[0;32min\u001b[0m \u001b[0mflat_components\u001b[0m\u001b[0;34m)\u001b[0m\u001b[0;34m\u001b[0m\u001b[0;34m\u001b[0m\u001b[0m\n\u001b[1;32m   1104\u001b[0m     \u001b[0;32melse\u001b[0m\u001b[0;34m:\u001b[0m\u001b[0;34m\u001b[0m\u001b[0;34m\u001b[0m\u001b[0m\n\u001b[0;32m-> 1105\u001b[0;31m       \u001b[0;32mreturn\u001b[0m \u001b[0mx\u001b[0m\u001b[0;34m.\u001b[0m\u001b[0mop\u001b[0m\u001b[0;34m.\u001b[0m\u001b[0mtype\u001b[0m \u001b[0;34m==\u001b[0m \u001b[0;34m'Placeholder'\u001b[0m\u001b[0;34m\u001b[0m\u001b[0;34m\u001b[0m\u001b[0m\n\u001b[0m\u001b[1;32m   1106\u001b[0m   \u001b[0;32mexcept\u001b[0m \u001b[0mAttributeError\u001b[0m\u001b[0;34m:\u001b[0m\u001b[0;34m\u001b[0m\u001b[0;34m\u001b[0m\u001b[0m\n\u001b[1;32m   1107\u001b[0m     \u001b[0;32mreturn\u001b[0m \u001b[0;32mFalse\u001b[0m\u001b[0;34m\u001b[0m\u001b[0;34m\u001b[0m\u001b[0m\n",
            "\u001b[0;32m/usr/local/lib/python3.7/dist-packages/tensorflow/python/framework/ops.py\u001b[0m in \u001b[0;36mtype\u001b[0;34m(self)\u001b[0m\n\u001b[1;32m   2219\u001b[0m   \u001b[0;32mdef\u001b[0m \u001b[0mtype\u001b[0m\u001b[0;34m(\u001b[0m\u001b[0mself\u001b[0m\u001b[0;34m)\u001b[0m\u001b[0;34m:\u001b[0m\u001b[0;34m\u001b[0m\u001b[0;34m\u001b[0m\u001b[0m\n\u001b[1;32m   2220\u001b[0m     \u001b[0;34m\"\"\"The type of the op (e.g. `\"MatMul\"`).\"\"\"\u001b[0m\u001b[0;34m\u001b[0m\u001b[0;34m\u001b[0m\u001b[0m\n\u001b[0;32m-> 2221\u001b[0;31m     \u001b[0;32mreturn\u001b[0m \u001b[0mpywrap_tf_session\u001b[0m\u001b[0;34m.\u001b[0m\u001b[0mTF_OperationOpType\u001b[0m\u001b[0;34m(\u001b[0m\u001b[0mself\u001b[0m\u001b[0;34m.\u001b[0m\u001b[0m_c_op\u001b[0m\u001b[0;34m)\u001b[0m\u001b[0;34m\u001b[0m\u001b[0;34m\u001b[0m\u001b[0m\n\u001b[0m\u001b[1;32m   2222\u001b[0m \u001b[0;34m\u001b[0m\u001b[0m\n\u001b[1;32m   2223\u001b[0m   \u001b[0;34m@\u001b[0m\u001b[0mproperty\u001b[0m\u001b[0;34m\u001b[0m\u001b[0;34m\u001b[0m\u001b[0m\n",
            "\u001b[0;31mKeyboardInterrupt\u001b[0m: "
          ]
        }
      ]
    },
    {
      "cell_type": "code",
      "metadata": {
        "colab": {
          "base_uri": "https://localhost:8080/",
          "height": 286
        },
        "id": "Wg--7K34FoKF",
        "outputId": "c3bcfb92-2cf3-43c5-cbe4-ec4907c553ab"
      },
      "source": [
        "im = cv2.imread('/content/data/images/201/frame0029_leftImg8bit.jpg', cv2.IMREAD_UNCHANGED) \n",
        "im = cv2.resize(im,(256,256),interpolation=cv2.INTER_AREA)\n",
        "im = cv2.cvtColor(im, cv2.COLOR_BGR2RGB)\n",
        "im = im[np.newaxis,:,:,:]\n",
        "pre = model.predict(im)\n",
        "pre.shape\n",
        "pre = pre[0,:,:,:]\n",
        "plt.imshow(tf.keras.preprocessing.image.array_to_img(pre))"
      ],
      "execution_count": 69,
      "outputs": [
        {
          "output_type": "execute_result",
          "data": {
            "text/plain": [
              "<matplotlib.image.AxesImage at 0x7f03d7c25810>"
            ]
          },
          "metadata": {
            "tags": []
          },
          "execution_count": 69
        },
        {
          "output_type": "display_data",
          "data": {
            "image/png": "[encoded data removed]",
            "text/plain": [
              "<Figure size 432x288 with 1 Axes>"
            ]
          },
          "metadata": {
            "tags": [],
            "needs_background": "light"
          }
        }
      ]
    },
    {
      "cell_type": "code",
      "metadata": {
        "colab": {
          "base_uri": "https://localhost:8080/",
          "height": 286
        },
        "id": "c3vapNeEUPES",
        "outputId": "d8cf3139-0ed4-4a77-d494-1dc0ddf31878"
      },
      "source": [
        "plt.imshow(im[0,...])"
      ],
      "execution_count": 71,
      "outputs": [
        {
          "output_type": "execute_result",
          "data": {
            "text/plain": [
              "<matplotlib.image.AxesImage at 0x7f03d7b65e90>"
            ]
          },
          "metadata": {
            "tags": []
          },
          "execution_count": 71
        },
        {
          "output_type": "display_data",
          "data": {
            "image/png": "[encoded data removed]",
            "text/plain": [
              "<Figure size 432x288 with 1 Axes>"
            ]
          },
          "metadata": {
            "tags": [],
            "needs_background": "light"
          }
        }
      ]
    },
    {
      "cell_type": "code",
      "metadata": {
        "colab": {
          "base_uri": "https://localhost:8080/",
          "height": 35
        },
        "id": "A4ErqXldMdaG",
        "outputId": "32dbe0a4-234e-43c3-8bfd-b871637328e0"
      },
      "source": [
        "data_df['mask'][0])"
      ],
      "execution_count": 60,
      "outputs": [
        {
          "output_type": "execute_result",
          "data": {
            "application/vnd.google.colaboratory.intrinsic+json": {
              "type": "string"
            },
            "text/plain": [
              "'/content/data/output/295/frame0310_gtFine_polygons.png'"
            ]
          },
          "metadata": {
            "tags": []
          },
          "execution_count": 60
        }
      ]
    },
    {
      "cell_type": "markdown",
      "metadata": {
        "id": "zTtIHDSf0bBY"
      },
      "source": [
        "# Task 3: Training CANet"
      ]
    },
    {
      "cell_type": "code",
      "metadata": {
        "id": "lM6PTaqo0bBY",
        "outputId": "d6d44dc2-2471-4368-ecad-204a26be17ae"
      },
      "source": [
        "import tensorflow as tf\n",
        "# tf.compat.v1.enable_eager_execution()\n",
        "from tensorflow import keras\n",
        "from tensorflow.keras.layers import *\n",
        "from tensorflow.keras.preprocessing import image\n",
        "from tensorflow.keras.models import Model, load_model\n",
        "from tensorflow.keras.layers import UpSampling2D\n",
        "from tensorflow.keras.layers import MaxPooling2D, GlobalAveragePooling2D\n",
        "from tensorflow.keras.layers import concatenate\n",
        "from tensorflow.keras.layers import Multiply\n",
        "from tensorflow.keras.callbacks import EarlyStopping, ModelCheckpoint\n",
        "from tensorflow.keras import backend as K\n",
        "from tensorflow.keras.layers import Input, Add, Dense, Activation, ZeroPadding2D, BatchNormalization, Flatten, Conv2D, AveragePooling2D, MaxPooling2D, GlobalMaxPooling2D\n",
        "from tensorflow.keras.models import Model, load_model\n",
        "from tensorflow.keras.utils import plot_model\n",
        "from tensorflow.keras.initializers import glorot_uniform\n",
        "K.set_image_data_format('channels_last')\n",
        "K.set_learning_phase(1)"
      ],
      "execution_count": null,
      "outputs": [
        {
          "output_type": "stream",
          "text": [
            "D:\\installed\\Anaconda3\\lib\\site-packages\\tensorflow\\python\\framework\\dtypes.py:526: FutureWarning: Passing (type, 1) or '1type' as a synonym of type is deprecated; in a future version of numpy, it will be understood as (type, (1,)) / '(1,)type'.\n",
            "  _np_qint8 = np.dtype([(\"qint8\", np.int8, 1)])\n",
            "D:\\installed\\Anaconda3\\lib\\site-packages\\tensorflow\\python\\framework\\dtypes.py:527: FutureWarning: Passing (type, 1) or '1type' as a synonym of type is deprecated; in a future version of numpy, it will be understood as (type, (1,)) / '(1,)type'.\n",
            "  _np_quint8 = np.dtype([(\"quint8\", np.uint8, 1)])\n",
            "D:\\installed\\Anaconda3\\lib\\site-packages\\tensorflow\\python\\framework\\dtypes.py:528: FutureWarning: Passing (type, 1) or '1type' as a synonym of type is deprecated; in a future version of numpy, it will be understood as (type, (1,)) / '(1,)type'.\n",
            "  _np_qint16 = np.dtype([(\"qint16\", np.int16, 1)])\n",
            "D:\\installed\\Anaconda3\\lib\\site-packages\\tensorflow\\python\\framework\\dtypes.py:529: FutureWarning: Passing (type, 1) or '1type' as a synonym of type is deprecated; in a future version of numpy, it will be understood as (type, (1,)) / '(1,)type'.\n",
            "  _np_quint16 = np.dtype([(\"quint16\", np.uint16, 1)])\n",
            "D:\\installed\\Anaconda3\\lib\\site-packages\\tensorflow\\python\\framework\\dtypes.py:530: FutureWarning: Passing (type, 1) or '1type' as a synonym of type is deprecated; in a future version of numpy, it will be understood as (type, (1,)) / '(1,)type'.\n",
            "  _np_qint32 = np.dtype([(\"qint32\", np.int32, 1)])\n",
            "D:\\installed\\Anaconda3\\lib\\site-packages\\tensorflow\\python\\framework\\dtypes.py:535: FutureWarning: Passing (type, 1) or '1type' as a synonym of type is deprecated; in a future version of numpy, it will be understood as (type, (1,)) / '(1,)type'.\n",
            "  np_resource = np.dtype([(\"resource\", np.ubyte, 1)])\n"
          ],
          "name": "stderr"
        }
      ]
    },
    {
      "cell_type": "markdown",
      "metadata": {
        "id": "f0DIdIxO0bBb"
      },
      "source": [
        "* as a part of this assignment we will be implementing the architecture based on this paper https://arxiv.org/pdf/2002.12041.pdf\n",
        "* We will be using the custom layers concept that we used in seq-seq assignment\n",
        "* You can devide the whole architecture can be devided into two parts\n",
        "    1. Encoder\n",
        "    2. Decoder\n",
        "    <img src='https://i.imgur.com/prH3Mno.png' width=\"600\">\n",
        "* Encoder:\n",
        "    * The first step of the encoder is to create the channel maps [$C_1$, $C_2$, $C_3$, $C_4$]\n",
        "    * $C_1$ width and heigths are 4x times less than the original image\n",
        "    * $C_2$ width and heigths are 8x times less than the original image\n",
        "    * $C_3$ width and heigths are 8x times less than the original image\n",
        "    * $C_4$ width and heigths are 8x times less than the original image\n",
        "    * <i>you can reduce the dimensions by using stride parameter</i>.\n",
        "    * [$C_1$, $C_2$, $C_3$, $C_4$] are formed by applying a \"conv block\" followed by $k$ number of \"identity block\". i.e the $C_k$ feature map will single \"conv block\" followed by $k$ number of \"identity blocks\".\n",
        "    <table>\n",
        "    <tr><td><img src=\"https://i.imgur.com/R8Gdypo.png\" width=\"300\"></td>\n",
        "        <td><img src=\"https://i.imgur.com/KNunjQK.png\" width=\"250\"></td></tr>\n",
        "    </table>\n",
        "    * <strong>The conv block and identity block of $C_1$</strong>: the number filters in the covolutional layers will be $[4,4,8]$ and the number of filters in the parallel conv layer will also be $8$.\n",
        "    * <strong>The conv block and identity block of $C_2$</strong>: the number filters in the covolutional layers will be $[8,8,16]$ and the number of filters in the parallel conv layer will also be $16$.\n",
        "    * <strong>The conv block and identity block of $C_3$</strong>: the number filters in the covolutional layers will be $[16,16,32]$ and the number of filters in the parallel conv layer will also be $32$.\n",
        "    * <strong>The conv block and identity block of $C_4$</strong>: the number filters in the covolutional layers will be $[32,32,64]$ and the number of filters in the parallel conv layer will also be $64$.\n",
        "    * Here $\\oplus$ represents the elementwise sum\n",
        "    <br>\n",
        "    \n",
        "    <font color=\"red\">NOTE: these filters are of your choice, you can explore more options also</font>\n",
        "    \n",
        "    * Example: if your image is of size $(512, 512, 3)$\n",
        "        * the output after $C_1$ will be $128*128*8$\n",
        "        * the output after $C_2$ will be $64*64*16$\n",
        "        * the output after $C_3$ will be $64*64*32$\n",
        "        * the output after $C_4$ will be $64*64*64$"
      ]
    },
    {
      "cell_type": "code",
      "metadata": {
        "id": "AMdxrF6p0bBb"
      },
      "source": [
        "class convolutional_block(tf.keras.layers.Layer):\n",
        "    def __init__(self, kernel=3,  filters=[4,4,8], stride=1, name=\"conv block\"):\n",
        "        super().__init__(name=name)\n",
        "        self.F1, self.F2, self.F3 = filters\n",
        "        self.kernel = kernel\n",
        "        self.stride = stride\n",
        "    def call(self, X):\n",
        "        # write the architecutre that was mentioned above\n",
        "        return X"
      ],
      "execution_count": null,
      "outputs": []
    },
    {
      "cell_type": "code",
      "metadata": {
        "id": "WZjGHnBf0bBd"
      },
      "source": [
        "class identity_block(tf.keras.layers.Layer):\n",
        "    def __init__(self, kernel=3,  filters=[4,4,8], name=\"identity block\"):\n",
        "        super().__init__(name=name)\n",
        "        self.F1, self.F2, self.F3 = filters\n",
        "        self.kernel = kernel\n",
        "    def call(self, X):\n",
        "        # write the architecutre that was mentioned above\n",
        "        return X"
      ],
      "execution_count": null,
      "outputs": []
    },
    {
      "cell_type": "markdown",
      "metadata": {
        "id": "QNP8W_o90bBg"
      },
      "source": [
        "* The output of the $C_4$ will be passed to $\\text{Chained Context Aggregation Module (CAM)}$\n",
        "<img src='https://i.imgur.com/Bu63AAA.png' width=\"400\">\n",
        "* The CAM module will have two operations names Context flow and Global flow\n",
        "* <strong>The Global flow</strong>: \n",
        "    * as shown in the above figure first we willl apply  <a href=\"https://www.tensorflow.org/api_docs/python/tf/keras/layers/GlobalAveragePooling2D\">global avg pooling</a> which results in (#, 1, 1, number_of_filters) then applying <a href=\"https://www.tensorflow.org/api_docs/python/tf/keras/layers/BatchNormalization?version=nightly\">BN</a>, <a href=\"https://www.tensorflow.org/api_docs/python/tf/keras/layers/ReLU\">RELU</a>, $1*1 \\text{ Conv}$ layer sequentially which results a matrix (#, 1, 1, number_of_filters). Finally apply <a href=\"https://www.tensorflow.org/api_docs/python/tf/keras/layers/UpSampling2D\">upsampling</a> / <a href=\"https://www.tensorflow.org/api_docs/python/tf/keras/layers/Conv2DTranspose\">conv2d transpose</a> to make the output same as the input dimensions (#, input_height, input_width, number_of_filters)\n",
        "    * If you use <a href=\"https://www.tensorflow.org/api_docs/python/tf/keras/layers/UpSampling2D\">upsampling</a> then use bilinear pooling as interpolation technique\n",
        "* <strong>The Context flow</strong>: \n",
        "    * as shown in the above figure (c) the context flow will get inputs from two modules `a. C4` `b. From the above flow` \n",
        "    * We will be <a href=\"https://www.tensorflow.org/api_docs/python/tf/keras/layers/Concatenate\">concatinating</a> the both inputs on the last axis.\n",
        "    * After the concatination we will be applying <a href=\"https://www.tensorflow.org/api_docs/python/tf/keras/layers/AveragePooling2D\"> Average pooling </a> which reduces the size of feature map by $N\\times$ times\n",
        "    * In the paper it was mentioned that to apply a group convolutions, but for the assignment we will be applying the simple conv layers with kernel size $(3*3)$\n",
        "    * We are skipping the channel shuffling \n",
        "    * similarly we will be applying a simple conv layers with kernel size $(3*3)$ consider this output is X\n",
        "    * later we will get the Y=(X $\\otimes \\sigma((1\\times1)conv(relu((1\\times1)conv(X))))) \\oplus X$, here $\\oplus$ is elementwise addition and $\\otimes$ is elementwise multiplication\n",
        "    * Finally apply <a href=\"https://www.tensorflow.org/api_docs/python/tf/keras/layers/UpSampling2D\">upsampling</a> / <a href=\"https://www.tensorflow.org/api_docs/python/tf/keras/layers/Conv2DTranspose\">conv2d transpose</a> to make the output same as the input dimensions (#, input_height, input_width, number_of_filters)\n",
        "    * If you use <a href=\"https://www.tensorflow.org/api_docs/python/tf/keras/layers/UpSampling2D\">upsampling</a> then use bilinear pooling as interpolation technique\n",
        "\n",
        "NOTE: here N times reduction and N time increments makes the input and out shape same, you can explore with the N values, you can choose N = 2 or 4\n",
        "\n",
        "* Example with N=2:\n",
        "    * Assume the C4 is of shape (64,64,64) then the shape of GF will be (64,64,32)\n",
        "    * Assume the C4 is of shape (64,64,64) and the shape of GF is (64,64,32) then the shape of CF1 will be (64,64,32)\n",
        "    * Assume the C4 is of shape (64,64,64) and the shape of CF1 is (64,64,32) then the shape of CF2 will be (64,64,32)\n",
        "    * Assume the C4 is of shape (64,64,64) and the shape of CF2 is (64,64,32) then the shape of CF3 will be (64,64,32)"
      ]
    },
    {
      "cell_type": "code",
      "metadata": {
        "id": "p2tIIP730bBg"
      },
      "source": [
        "class global_flow(tf.keras.layers.Layer):\n",
        "    def __init__(self, name=\"global_flow\"):\n",
        "        super().__init__(name=name)\n",
        "        \n",
        "    def call(self, X):\n",
        "        # implement the global flow operatiom\n",
        "        return X"
      ],
      "execution_count": null,
      "outputs": []
    },
    {
      "cell_type": "code",
      "metadata": {
        "id": "Oe938KHw0bBk"
      },
      "source": [
        "class context_flow(tf.keras.layers.Layer):    \n",
        "    def __init__(self, name=\"context_flow\"):\n",
        "        super().__init__(name=name)\n",
        "    def call(self, X):\n",
        "        # here X will a list of two elements \n",
        "        INP, FLOW = X[0], X[1] \n",
        "        # implement the context flow as mentioned in the above cell\n",
        "        return X"
      ],
      "execution_count": null,
      "outputs": []
    },
    {
      "cell_type": "markdown",
      "metadata": {
        "id": "kZyxvYZp0bBm"
      },
      "source": [
        "* As shown in the above architecture we will be having 4 context flows\n",
        "* if you have implemented correctly all the shapes of Global Flow, and 3 context flows will have the same dimension\n",
        "* the output of these 4 modules will be <a href=\"https://www.tensorflow.org/api_docs/python/tf/keras/layers/Add\">added</a> to get the same output matrix\n",
        "<img src='https://i.imgur.com/Bu63AAA.png' width=\"400\">\n",
        " * The output of after the sum, will be sent to the <strong>Feature selection module $FSM$</strong>\n",
        " \n",
        "* Example:\n",
        "    * if the shapes of GF, CF1, CF2, CF3 are (64,64,32), (64,64,32), (64,64,32), (64,64,32), (64,64,32) respectivly then after the sum we will be getting (64,64,32), which will be passed to the next module.\n",
        " \n",
        "<strong>Feature selection module</strong>:\n",
        "\n",
        "* As part of the FSM we will be applying a conv layer (3,3) with the padding=\"same\" so that the output and input will have same shapes\n",
        "* Let call the output as X\n",
        "* Pass the X to global pooling which results the matrix (#, 1, 1, number_of_channels)\n",
        "* Apply $1*1$ conv layer, after the pooling\n",
        "* the output of the $1*1$ conv layer will be passed to the Batch normalization layer, followed by Sigmoid activation function.\n",
        "* we will be having the output matrix of shape (#, 1, 1, number_of_channels) lets call it 'Y'\n",
        "* <strong>we can interpret this as attention mechanisum, i.e for each channel we will having a weight</strong>\n",
        "* the dimension of X (#, w, h, k) and output above steps Y is (#, 1, 1, k) i.e we need to multiply each channel of X will be <a href=\"https://www.tensorflow.org/api_docs/python/tf/keras/layers/Multiply\">multiplied</a> with corresponding channel of Y\n",
        "* After creating the weighted channel map we will be doing upsampling such that it will double the height and width.\n",
        "* apply <a href=\"https://www.tensorflow.org/api_docs/python/tf/keras/layers/UpSampling2D\">upsampling</a> with bilinear pooling as interpolation technique\n",
        "\n",
        "* <font color=\"red\">Example</font>:\n",
        "    * Assume the matrix shape of the input is (64,64,32) then after upsampling it will be (128,128,32)"
      ]
    },
    {
      "cell_type": "code",
      "metadata": {
        "id": "dNB8srLR0bBn"
      },
      "source": [
        "class fsm(tf.keras.layers.Layer):    \n",
        "    def __init__(self, name=\"feature_selection\"):\n",
        "        super().__init__(name=name)\n",
        "        \n",
        "    def call(self, X):\n",
        "        # implement the FSM modules based on image in the above cells\n",
        "        return FSM_Conv_T"
      ],
      "execution_count": null,
      "outputs": []
    },
    {
      "cell_type": "markdown",
      "metadata": {
        "id": "_Xoqx8w50bBp"
      },
      "source": [
        "* <b>Adapted Global Convolutional Network (AGCN)</b>:\n",
        "    <img src=\"https://i.imgur.com/QNB8RmV.png\" width=\"300\">\n",
        "    \n",
        "    * AGCN will get the input from the output of the \"conv block\" of $C_1$\n",
        "    \n",
        "    * In all the above layers we will be using the padding=\"same\" and stride=(1,1)\n",
        "    \n",
        "    * so that we can have the input and output matrices of same size\n",
        "    \n",
        "* <font color=\"red\">Example</font>:\n",
        "    * Assume the matrix shape of the input is (128,128,32) then the output it will be (128,128,32)"
      ]
    },
    {
      "cell_type": "code",
      "metadata": {
        "id": "dL_T1Muv0bBq"
      },
      "source": [
        "class agcn(tf.keras.layers.Layer):    \n",
        "    def __init__(self, name=\"global_conv_net\"):\n",
        "        super().__init__(name=name)\n",
        "        \n",
        "    def call(self, X):\n",
        "        # please implement the above mentioned architecture\n",
        "        return X"
      ],
      "execution_count": null,
      "outputs": []
    },
    {
      "cell_type": "markdown",
      "metadata": {
        "id": "RStu3wwZ0bBs"
      },
      "source": [
        "*     <img src='https://i.imgur.com/prH3Mno.png' width=\"600\">\n",
        "* as shown in the architecture, after we get the AGCN it will get concatinated with the FSM output\n",
        "\n",
        "* If we observe the shapes both AGCN and FSM will have same height and weight\n",
        "\n",
        "* we will be concatinating both these outputs over the last axis\n",
        "\n",
        "* The concatinated output will be passed to a conv layers with filters = number of classes in our data set and the activation function = 'relu'\n",
        "\n",
        "* we will be using padding=\"same\" which results in the same size feature map\n",
        "\n",
        "* If you observe the shape of matrix, it will be 4x times less than the original image\n",
        "\n",
        "* to make it equal to the original output shape, we will do 4x times upsampling of rows and columns\n",
        "\n",
        "* apply <a href=\"https://www.tensorflow.org/api_docs/python/tf/keras/layers/UpSampling2D\">upsampling</a> with bilinear pooling as interpolation technique\n",
        "\n",
        "* Finally we will be applying sigmoid activation.\n",
        "\n",
        "* Example:\n",
        "    * Assume the matrix shape of AGCN is (128,128,32)  and FSM is (128,128,32) the concatination will make it (128, 128, 64)\n",
        "    * Applying conv layer will make it (128,128,21)\n",
        "    * Finally applying upsampling will make it (512, 512, 21)\n",
        "    * Applying sigmoid will result in the same matrix (512, 512, 21)"
      ]
    },
    {
      "cell_type": "code",
      "metadata": {
        "id": "O16er1Nx0bBs"
      },
      "source": [
        "X_input = Input(shape=(128,128,3))\n",
        "\n",
        "# Stage 1\n",
        "X = Conv2D(64, (3, 3), name='conv1', padding=\"same\", kernel_initializer=glorot_uniform(seed=0))(X_input)\n",
        "X = BatchNormalization(axis=3, name='bn_conv1')(X)\n",
        "X = Activation('relu')(X)\n",
        "X = MaxPooling2D((2, 2), strides=(2, 2))(X)\n",
        "print(X.shape)"
      ],
      "execution_count": null,
      "outputs": []
    },
    {
      "cell_type": "markdown",
      "metadata": {
        "id": "cTOD_qPA0bBv"
      },
      "source": [
        "* If you observe the arcitecture we are creating a feature map with 2x time less width and height\n",
        "* we have written the first stage of the code above.\n",
        "* Write the next layers by using the custom layers we have written"
      ]
    },
    {
      "cell_type": "code",
      "metadata": {
        "id": "5UwfJ2tw0bBv",
        "scrolled": true
      },
      "source": [
        "# write the complete architecutre\n",
        "\n",
        "model = Model(inputs = X, outputs = output)\n",
        "\n",
        "model.summary()"
      ],
      "execution_count": null,
      "outputs": []
    },
    {
      "cell_type": "code",
      "metadata": {
        "id": "O9Cmyohz0bBz"
      },
      "source": [
        "tf.keras.utils.plot_model(\n",
        "    model, to_file='model4.png', show_shapes=True, show_layer_names=True,\n",
        "    rankdir='TB')"
      ],
      "execution_count": null,
      "outputs": []
    },
    {
      "cell_type": "markdown",
      "metadata": {
        "id": "RXnPVQHw0bB1"
      },
      "source": [
        "### Usefull tips:\n",
        "* use \"interpolation=cv2.INTER_NEAREST\" when you are resizing the image, so that it won't mess with the number of classes\n",
        "* keep the images in the square shape like $256*256$ or $512*512$\n",
        "* Carefull when you are converting the (W, H) output image into (W, H, Classes)\n",
        "* Even for the canet, use the segmentation model's losses and the metrics\n",
        "* The goal of this assignment is make you familier in with computer vision problems, image preprocessing, building complex architectures and implementing research papers, so that in future you will be very confident in industry\n",
        "* you can use the tensorboard logss to see how is yours model's training happening\n",
        "* use callbacks that you have implemented in previous assignments"
      ]
    },
    {
      "cell_type": "markdown",
      "metadata": {
        "id": "hHWYBsLz3pRY"
      },
      "source": [
        "### Things to keep in mind"
      ]
    },
    {
      "cell_type": "markdown",
      "metadata": {
        "id": "Fr7X4N0v1KlO"
      },
      "source": [
        "* You need to train  above built model and plot the train and test losses.\n",
        "* Make sure there is no overfitting, you are free play with the identity blocks in C1, C2, C3, C4\n",
        "* before we apply the final sigmoid activation, you can add more conv layers or BN or dropouts etc\n",
        "* you are free to use any other optimizer or learning rate or weights init or regularizations"
      ]
    }
  ]
}